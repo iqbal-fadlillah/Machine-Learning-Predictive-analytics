{
  "cells": [
    {
      "cell_type": "markdown",
      "metadata": {
        "id": "Fdoio8K9B3Mt"
      },
      "source": [
        "Proyek Pertama Machine Learning Terapan: Predictive Analytics\n",
        "\n",
        "Nama: Muhammad Iqbal Fadlillah\n",
        "\n",
        "Domisili: Kota Bandung, Jawa Barat\n",
        "\n",
        "Email: m011x0093@dicoding.org, muhammadmif23@gmail.com"
      ]
    },
    {
      "cell_type": "markdown",
      "source": [
        "Tahap pertama yaitu mendeklarasikan library yang akan digunakan untuk membaca dataset dalam format .csv, melakukan visualisasi data, dan menghilangkan kolom yang tidak dipakai pada data set."
      ],
      "metadata": {
        "id": "0m9vGeknO69W"
      }
    },
    {
      "cell_type": "code",
      "execution_count": null,
      "metadata": {
        "id": "epGBVU5IvxQZ"
      },
      "outputs": [],
      "source": [
        "import numpy as np\n",
        "import matplotlib.pyplot as plt\n",
        "import pandas as pd\n",
        "%matplotlib inline\n",
        "import seaborn as sns"
      ]
    },
    {
      "cell_type": "markdown",
      "source": [
        "Kemudian dilanjutkan ke tahap Data Loading upload dimana dataset akan diupload menggunakan path dari google drive. Dataset merupakan data time series nilai Bitcoin Cryptocurrency mulai dari tahun 2019 hingga September 2022. Dataset tersebut diambil dari platform Kaggle dengan link berikut: https://www.kaggle.com/datasets/psycon/bitcoin-usdt-2017202204-historical-dataset \n",
        "\n",
        "Setelah diupload dataset tersebut dibaca menggunakan library pandas dan disimpan pada variabel data. Kemudian variabel data dipanggil untuk menampilkan isi Tabel pada dataset tersebut. Dapat dilihat dataset terdiri dari 54259 baris dan 12 kolom. Kolom tersebut terdiri dari Open Time, Open, High, Low, Class, Volume, hingga Ignore.  "
      ],
      "metadata": {
        "id": "G6PXCKaDP3I9"
      }
    },
    {
      "cell_type": "code",
      "execution_count": null,
      "metadata": {
        "id": "IGiYZP_bs_pb",
        "colab": {
          "base_uri": "https://localhost:8080/",
          "height": 424
        },
        "outputId": "e7cfad73-e130-4397-ef5d-e050163aedc2"
      },
      "outputs": [
        {
          "output_type": "execute_result",
          "data": {
            "text/plain": [
              "                           Open Time      Open      High       Low     Close  \\\n",
              "0      2019-07-30 00:00:00.000000000   9509.07   9535.00   9503.07   9517.75   \n",
              "1      2019-07-30 00:30:00.000000000   9517.03   9539.00   9507.00   9532.58   \n",
              "2      2019-07-30 01:00:00.000000000   9533.59   9534.00   9500.00   9500.25   \n",
              "3      2019-07-30 01:30:00.000000000   9500.25   9514.46   9460.71   9465.25   \n",
              "4      2019-07-30 02:00:00.000000000   9465.25   9488.94   9430.01   9460.42   \n",
              "...                              ...       ...       ...       ...       ...   \n",
              "54254  2022-09-04 07:00:00.000000000  19700.96  19733.81  19675.49  19723.50   \n",
              "54255  2022-09-04 07:30:00.000000000  19723.21  19728.76  19615.00  19632.40   \n",
              "54256  2022-09-04 08:00:00.000000000  19630.95  19680.97  19583.10  19656.41   \n",
              "54257  2022-09-04 08:30:00.000000000  19656.41  19759.83  19645.83  19736.20   \n",
              "54258  2022-09-04 09:00:00.000000000  19737.02  19832.48  19727.48  19811.33   \n",
              "\n",
              "            Volume                     Close Time  Quote Asset Volume  \\\n",
              "0       381.293856  2019-07-30 00:29:59.999000064        3.631211e+06   \n",
              "1       258.514869  2019-07-30 00:59:59.999000064        2.462134e+06   \n",
              "2       275.797270  2019-07-30 01:29:59.999000064        2.624322e+06   \n",
              "3       485.218470  2019-07-30 01:59:59.999000064        4.604004e+06   \n",
              "4       498.669626  2019-07-30 02:29:59.999000064        4.717269e+06   \n",
              "...            ...                            ...                 ...   \n",
              "54254  2936.853930  2022-09-04 07:29:59.999000064        5.786227e+07   \n",
              "54255  3269.778610  2022-09-04 07:59:59.999000064        6.437186e+07   \n",
              "54256  5140.947610  2022-09-04 08:29:59.999000064        1.009715e+08   \n",
              "54257  4231.870540  2022-09-04 08:59:59.999000064        8.345725e+07   \n",
              "54258  2675.483200  2022-09-04 09:29:59.999000064        5.294715e+07   \n",
              "\n",
              "       Number of Trades  TB Base Volume  TB Quote Volume  Ignore  \n",
              "0                  3492      216.528742     2.062189e+06       0  \n",
              "1                  3133      141.887550     1.351182e+06       0  \n",
              "2                  3583      114.238457     1.087402e+06       0  \n",
              "3                  5330      225.681291     2.141459e+06       0  \n",
              "4                  6197      228.535910     2.162163e+06       0  \n",
              "...                 ...             ...              ...     ...  \n",
              "54254             83331     1472.239090     2.900747e+07       0  \n",
              "54255             79442     1437.167070     2.829950e+07       0  \n",
              "54256            125426     2323.893270     4.565058e+07       0  \n",
              "54257            107320     2222.858960     4.383608e+07       0  \n",
              "54258             58953     1547.521870     3.062685e+07       0  \n",
              "\n",
              "[54259 rows x 12 columns]"
            ],
            "text/html": [
              "\n",
              "  <div id=\"df-00b96d7b-3688-4fc8-a995-cb9029a1e72d\">\n",
              "    <div class=\"colab-df-container\">\n",
              "      <div>\n",
              "<style scoped>\n",
              "    .dataframe tbody tr th:only-of-type {\n",
              "        vertical-align: middle;\n",
              "    }\n",
              "\n",
              "    .dataframe tbody tr th {\n",
              "        vertical-align: top;\n",
              "    }\n",
              "\n",
              "    .dataframe thead th {\n",
              "        text-align: right;\n",
              "    }\n",
              "</style>\n",
              "<table border=\"1\" class=\"dataframe\">\n",
              "  <thead>\n",
              "    <tr style=\"text-align: right;\">\n",
              "      <th></th>\n",
              "      <th>Open Time</th>\n",
              "      <th>Open</th>\n",
              "      <th>High</th>\n",
              "      <th>Low</th>\n",
              "      <th>Close</th>\n",
              "      <th>Volume</th>\n",
              "      <th>Close Time</th>\n",
              "      <th>Quote Asset Volume</th>\n",
              "      <th>Number of Trades</th>\n",
              "      <th>TB Base Volume</th>\n",
              "      <th>TB Quote Volume</th>\n",
              "      <th>Ignore</th>\n",
              "    </tr>\n",
              "  </thead>\n",
              "  <tbody>\n",
              "    <tr>\n",
              "      <th>0</th>\n",
              "      <td>2019-07-30 00:00:00.000000000</td>\n",
              "      <td>9509.07</td>\n",
              "      <td>9535.00</td>\n",
              "      <td>9503.07</td>\n",
              "      <td>9517.75</td>\n",
              "      <td>381.293856</td>\n",
              "      <td>2019-07-30 00:29:59.999000064</td>\n",
              "      <td>3.631211e+06</td>\n",
              "      <td>3492</td>\n",
              "      <td>216.528742</td>\n",
              "      <td>2.062189e+06</td>\n",
              "      <td>0</td>\n",
              "    </tr>\n",
              "    <tr>\n",
              "      <th>1</th>\n",
              "      <td>2019-07-30 00:30:00.000000000</td>\n",
              "      <td>9517.03</td>\n",
              "      <td>9539.00</td>\n",
              "      <td>9507.00</td>\n",
              "      <td>9532.58</td>\n",
              "      <td>258.514869</td>\n",
              "      <td>2019-07-30 00:59:59.999000064</td>\n",
              "      <td>2.462134e+06</td>\n",
              "      <td>3133</td>\n",
              "      <td>141.887550</td>\n",
              "      <td>1.351182e+06</td>\n",
              "      <td>0</td>\n",
              "    </tr>\n",
              "    <tr>\n",
              "      <th>2</th>\n",
              "      <td>2019-07-30 01:00:00.000000000</td>\n",
              "      <td>9533.59</td>\n",
              "      <td>9534.00</td>\n",
              "      <td>9500.00</td>\n",
              "      <td>9500.25</td>\n",
              "      <td>275.797270</td>\n",
              "      <td>2019-07-30 01:29:59.999000064</td>\n",
              "      <td>2.624322e+06</td>\n",
              "      <td>3583</td>\n",
              "      <td>114.238457</td>\n",
              "      <td>1.087402e+06</td>\n",
              "      <td>0</td>\n",
              "    </tr>\n",
              "    <tr>\n",
              "      <th>3</th>\n",
              "      <td>2019-07-30 01:30:00.000000000</td>\n",
              "      <td>9500.25</td>\n",
              "      <td>9514.46</td>\n",
              "      <td>9460.71</td>\n",
              "      <td>9465.25</td>\n",
              "      <td>485.218470</td>\n",
              "      <td>2019-07-30 01:59:59.999000064</td>\n",
              "      <td>4.604004e+06</td>\n",
              "      <td>5330</td>\n",
              "      <td>225.681291</td>\n",
              "      <td>2.141459e+06</td>\n",
              "      <td>0</td>\n",
              "    </tr>\n",
              "    <tr>\n",
              "      <th>4</th>\n",
              "      <td>2019-07-30 02:00:00.000000000</td>\n",
              "      <td>9465.25</td>\n",
              "      <td>9488.94</td>\n",
              "      <td>9430.01</td>\n",
              "      <td>9460.42</td>\n",
              "      <td>498.669626</td>\n",
              "      <td>2019-07-30 02:29:59.999000064</td>\n",
              "      <td>4.717269e+06</td>\n",
              "      <td>6197</td>\n",
              "      <td>228.535910</td>\n",
              "      <td>2.162163e+06</td>\n",
              "      <td>0</td>\n",
              "    </tr>\n",
              "    <tr>\n",
              "      <th>...</th>\n",
              "      <td>...</td>\n",
              "      <td>...</td>\n",
              "      <td>...</td>\n",
              "      <td>...</td>\n",
              "      <td>...</td>\n",
              "      <td>...</td>\n",
              "      <td>...</td>\n",
              "      <td>...</td>\n",
              "      <td>...</td>\n",
              "      <td>...</td>\n",
              "      <td>...</td>\n",
              "      <td>...</td>\n",
              "    </tr>\n",
              "    <tr>\n",
              "      <th>54254</th>\n",
              "      <td>2022-09-04 07:00:00.000000000</td>\n",
              "      <td>19700.96</td>\n",
              "      <td>19733.81</td>\n",
              "      <td>19675.49</td>\n",
              "      <td>19723.50</td>\n",
              "      <td>2936.853930</td>\n",
              "      <td>2022-09-04 07:29:59.999000064</td>\n",
              "      <td>5.786227e+07</td>\n",
              "      <td>83331</td>\n",
              "      <td>1472.239090</td>\n",
              "      <td>2.900747e+07</td>\n",
              "      <td>0</td>\n",
              "    </tr>\n",
              "    <tr>\n",
              "      <th>54255</th>\n",
              "      <td>2022-09-04 07:30:00.000000000</td>\n",
              "      <td>19723.21</td>\n",
              "      <td>19728.76</td>\n",
              "      <td>19615.00</td>\n",
              "      <td>19632.40</td>\n",
              "      <td>3269.778610</td>\n",
              "      <td>2022-09-04 07:59:59.999000064</td>\n",
              "      <td>6.437186e+07</td>\n",
              "      <td>79442</td>\n",
              "      <td>1437.167070</td>\n",
              "      <td>2.829950e+07</td>\n",
              "      <td>0</td>\n",
              "    </tr>\n",
              "    <tr>\n",
              "      <th>54256</th>\n",
              "      <td>2022-09-04 08:00:00.000000000</td>\n",
              "      <td>19630.95</td>\n",
              "      <td>19680.97</td>\n",
              "      <td>19583.10</td>\n",
              "      <td>19656.41</td>\n",
              "      <td>5140.947610</td>\n",
              "      <td>2022-09-04 08:29:59.999000064</td>\n",
              "      <td>1.009715e+08</td>\n",
              "      <td>125426</td>\n",
              "      <td>2323.893270</td>\n",
              "      <td>4.565058e+07</td>\n",
              "      <td>0</td>\n",
              "    </tr>\n",
              "    <tr>\n",
              "      <th>54257</th>\n",
              "      <td>2022-09-04 08:30:00.000000000</td>\n",
              "      <td>19656.41</td>\n",
              "      <td>19759.83</td>\n",
              "      <td>19645.83</td>\n",
              "      <td>19736.20</td>\n",
              "      <td>4231.870540</td>\n",
              "      <td>2022-09-04 08:59:59.999000064</td>\n",
              "      <td>8.345725e+07</td>\n",
              "      <td>107320</td>\n",
              "      <td>2222.858960</td>\n",
              "      <td>4.383608e+07</td>\n",
              "      <td>0</td>\n",
              "    </tr>\n",
              "    <tr>\n",
              "      <th>54258</th>\n",
              "      <td>2022-09-04 09:00:00.000000000</td>\n",
              "      <td>19737.02</td>\n",
              "      <td>19832.48</td>\n",
              "      <td>19727.48</td>\n",
              "      <td>19811.33</td>\n",
              "      <td>2675.483200</td>\n",
              "      <td>2022-09-04 09:29:59.999000064</td>\n",
              "      <td>5.294715e+07</td>\n",
              "      <td>58953</td>\n",
              "      <td>1547.521870</td>\n",
              "      <td>3.062685e+07</td>\n",
              "      <td>0</td>\n",
              "    </tr>\n",
              "  </tbody>\n",
              "</table>\n",
              "<p>54259 rows × 12 columns</p>\n",
              "</div>\n",
              "      <button class=\"colab-df-convert\" onclick=\"convertToInteractive('df-00b96d7b-3688-4fc8-a995-cb9029a1e72d')\"\n",
              "              title=\"Convert this dataframe to an interactive table.\"\n",
              "              style=\"display:none;\">\n",
              "        \n",
              "  <svg xmlns=\"http://www.w3.org/2000/svg\" height=\"24px\"viewBox=\"0 0 24 24\"\n",
              "       width=\"24px\">\n",
              "    <path d=\"M0 0h24v24H0V0z\" fill=\"none\"/>\n",
              "    <path d=\"M18.56 5.44l.94 2.06.94-2.06 2.06-.94-2.06-.94-.94-2.06-.94 2.06-2.06.94zm-11 1L8.5 8.5l.94-2.06 2.06-.94-2.06-.94L8.5 2.5l-.94 2.06-2.06.94zm10 10l.94 2.06.94-2.06 2.06-.94-2.06-.94-.94-2.06-.94 2.06-2.06.94z\"/><path d=\"M17.41 7.96l-1.37-1.37c-.4-.4-.92-.59-1.43-.59-.52 0-1.04.2-1.43.59L10.3 9.45l-7.72 7.72c-.78.78-.78 2.05 0 2.83L4 21.41c.39.39.9.59 1.41.59.51 0 1.02-.2 1.41-.59l7.78-7.78 2.81-2.81c.8-.78.8-2.07 0-2.86zM5.41 20L4 18.59l7.72-7.72 1.47 1.35L5.41 20z\"/>\n",
              "  </svg>\n",
              "      </button>\n",
              "      \n",
              "  <style>\n",
              "    .colab-df-container {\n",
              "      display:flex;\n",
              "      flex-wrap:wrap;\n",
              "      gap: 12px;\n",
              "    }\n",
              "\n",
              "    .colab-df-convert {\n",
              "      background-color: #E8F0FE;\n",
              "      border: none;\n",
              "      border-radius: 50%;\n",
              "      cursor: pointer;\n",
              "      display: none;\n",
              "      fill: #1967D2;\n",
              "      height: 32px;\n",
              "      padding: 0 0 0 0;\n",
              "      width: 32px;\n",
              "    }\n",
              "\n",
              "    .colab-df-convert:hover {\n",
              "      background-color: #E2EBFA;\n",
              "      box-shadow: 0px 1px 2px rgba(60, 64, 67, 0.3), 0px 1px 3px 1px rgba(60, 64, 67, 0.15);\n",
              "      fill: #174EA6;\n",
              "    }\n",
              "\n",
              "    [theme=dark] .colab-df-convert {\n",
              "      background-color: #3B4455;\n",
              "      fill: #D2E3FC;\n",
              "    }\n",
              "\n",
              "    [theme=dark] .colab-df-convert:hover {\n",
              "      background-color: #434B5C;\n",
              "      box-shadow: 0px 1px 3px 1px rgba(0, 0, 0, 0.15);\n",
              "      filter: drop-shadow(0px 1px 2px rgba(0, 0, 0, 0.3));\n",
              "      fill: #FFFFFF;\n",
              "    }\n",
              "  </style>\n",
              "\n",
              "      <script>\n",
              "        const buttonEl =\n",
              "          document.querySelector('#df-00b96d7b-3688-4fc8-a995-cb9029a1e72d button.colab-df-convert');\n",
              "        buttonEl.style.display =\n",
              "          google.colab.kernel.accessAllowed ? 'block' : 'none';\n",
              "\n",
              "        async function convertToInteractive(key) {\n",
              "          const element = document.querySelector('#df-00b96d7b-3688-4fc8-a995-cb9029a1e72d');\n",
              "          const dataTable =\n",
              "            await google.colab.kernel.invokeFunction('convertToInteractive',\n",
              "                                                     [key], {});\n",
              "          if (!dataTable) return;\n",
              "\n",
              "          const docLinkHtml = 'Like what you see? Visit the ' +\n",
              "            '<a target=\"_blank\" href=https://colab.research.google.com/notebooks/data_table.ipynb>data table notebook</a>'\n",
              "            + ' to learn more about interactive tables.';\n",
              "          element.innerHTML = '';\n",
              "          dataTable['output_type'] = 'display_data';\n",
              "          await google.colab.output.renderOutput(dataTable, element);\n",
              "          const docLink = document.createElement('div');\n",
              "          docLink.innerHTML = docLinkHtml;\n",
              "          element.appendChild(docLink);\n",
              "        }\n",
              "      </script>\n",
              "    </div>\n",
              "  </div>\n",
              "  "
            ]
          },
          "metadata": {},
          "execution_count": 44
        }
      ],
      "source": [
        "url = '/content/drive/MyDrive/btc-usdt.csv'\n",
        "data = pd.read_csv(url)\n",
        "data"
      ]
    },
    {
      "cell_type": "markdown",
      "source": [
        "Selanjutnya menghapus kolom yang tidak akan digunakan datanya menggunakan fungsi .drop() dari variabel data. Pada kasus ini kolom yang tidak akan digunakan adalah 'Open Time', 'Ignore', 'Close Time', 'Quote Asset Volume', 'Number of Trades', 'TB Base Volume', 'TB Quote Volume'. Dikarenakan predictive analysis yang akan dilakukan pada dataset Bitcoin Cryptocurrency adalah melakukan prediksi pada nilai atau harga 'CLose' dari harga Bitcoin Cryptocurrency. Nilai Close merupakan nilai terakhir dari Bitcoin Cryptocurrency pada hari itu."
      ],
      "metadata": {
        "id": "AzD1AhElSrY5"
      }
    },
    {
      "cell_type": "code",
      "execution_count": null,
      "metadata": {
        "colab": {
          "base_uri": "https://localhost:8080/",
          "height": 424
        },
        "id": "kCjg0gZrb2AS",
        "outputId": "b3aab322-40a6-4cd7-9f52-6bb4de75d133"
      },
      "outputs": [
        {
          "output_type": "execute_result",
          "data": {
            "text/plain": [
              "           Open      High       Low     Close       Volume\n",
              "0       9509.07   9535.00   9503.07   9517.75   381.293856\n",
              "1       9517.03   9539.00   9507.00   9532.58   258.514869\n",
              "2       9533.59   9534.00   9500.00   9500.25   275.797270\n",
              "3       9500.25   9514.46   9460.71   9465.25   485.218470\n",
              "4       9465.25   9488.94   9430.01   9460.42   498.669626\n",
              "...         ...       ...       ...       ...          ...\n",
              "54254  19700.96  19733.81  19675.49  19723.50  2936.853930\n",
              "54255  19723.21  19728.76  19615.00  19632.40  3269.778610\n",
              "54256  19630.95  19680.97  19583.10  19656.41  5140.947610\n",
              "54257  19656.41  19759.83  19645.83  19736.20  4231.870540\n",
              "54258  19737.02  19832.48  19727.48  19811.33  2675.483200\n",
              "\n",
              "[54259 rows x 5 columns]"
            ],
            "text/html": [
              "\n",
              "  <div id=\"df-47e6c39d-fcd7-406a-85e6-24d379a08572\">\n",
              "    <div class=\"colab-df-container\">\n",
              "      <div>\n",
              "<style scoped>\n",
              "    .dataframe tbody tr th:only-of-type {\n",
              "        vertical-align: middle;\n",
              "    }\n",
              "\n",
              "    .dataframe tbody tr th {\n",
              "        vertical-align: top;\n",
              "    }\n",
              "\n",
              "    .dataframe thead th {\n",
              "        text-align: right;\n",
              "    }\n",
              "</style>\n",
              "<table border=\"1\" class=\"dataframe\">\n",
              "  <thead>\n",
              "    <tr style=\"text-align: right;\">\n",
              "      <th></th>\n",
              "      <th>Open</th>\n",
              "      <th>High</th>\n",
              "      <th>Low</th>\n",
              "      <th>Close</th>\n",
              "      <th>Volume</th>\n",
              "    </tr>\n",
              "  </thead>\n",
              "  <tbody>\n",
              "    <tr>\n",
              "      <th>0</th>\n",
              "      <td>9509.07</td>\n",
              "      <td>9535.00</td>\n",
              "      <td>9503.07</td>\n",
              "      <td>9517.75</td>\n",
              "      <td>381.293856</td>\n",
              "    </tr>\n",
              "    <tr>\n",
              "      <th>1</th>\n",
              "      <td>9517.03</td>\n",
              "      <td>9539.00</td>\n",
              "      <td>9507.00</td>\n",
              "      <td>9532.58</td>\n",
              "      <td>258.514869</td>\n",
              "    </tr>\n",
              "    <tr>\n",
              "      <th>2</th>\n",
              "      <td>9533.59</td>\n",
              "      <td>9534.00</td>\n",
              "      <td>9500.00</td>\n",
              "      <td>9500.25</td>\n",
              "      <td>275.797270</td>\n",
              "    </tr>\n",
              "    <tr>\n",
              "      <th>3</th>\n",
              "      <td>9500.25</td>\n",
              "      <td>9514.46</td>\n",
              "      <td>9460.71</td>\n",
              "      <td>9465.25</td>\n",
              "      <td>485.218470</td>\n",
              "    </tr>\n",
              "    <tr>\n",
              "      <th>4</th>\n",
              "      <td>9465.25</td>\n",
              "      <td>9488.94</td>\n",
              "      <td>9430.01</td>\n",
              "      <td>9460.42</td>\n",
              "      <td>498.669626</td>\n",
              "    </tr>\n",
              "    <tr>\n",
              "      <th>...</th>\n",
              "      <td>...</td>\n",
              "      <td>...</td>\n",
              "      <td>...</td>\n",
              "      <td>...</td>\n",
              "      <td>...</td>\n",
              "    </tr>\n",
              "    <tr>\n",
              "      <th>54254</th>\n",
              "      <td>19700.96</td>\n",
              "      <td>19733.81</td>\n",
              "      <td>19675.49</td>\n",
              "      <td>19723.50</td>\n",
              "      <td>2936.853930</td>\n",
              "    </tr>\n",
              "    <tr>\n",
              "      <th>54255</th>\n",
              "      <td>19723.21</td>\n",
              "      <td>19728.76</td>\n",
              "      <td>19615.00</td>\n",
              "      <td>19632.40</td>\n",
              "      <td>3269.778610</td>\n",
              "    </tr>\n",
              "    <tr>\n",
              "      <th>54256</th>\n",
              "      <td>19630.95</td>\n",
              "      <td>19680.97</td>\n",
              "      <td>19583.10</td>\n",
              "      <td>19656.41</td>\n",
              "      <td>5140.947610</td>\n",
              "    </tr>\n",
              "    <tr>\n",
              "      <th>54257</th>\n",
              "      <td>19656.41</td>\n",
              "      <td>19759.83</td>\n",
              "      <td>19645.83</td>\n",
              "      <td>19736.20</td>\n",
              "      <td>4231.870540</td>\n",
              "    </tr>\n",
              "    <tr>\n",
              "      <th>54258</th>\n",
              "      <td>19737.02</td>\n",
              "      <td>19832.48</td>\n",
              "      <td>19727.48</td>\n",
              "      <td>19811.33</td>\n",
              "      <td>2675.483200</td>\n",
              "    </tr>\n",
              "  </tbody>\n",
              "</table>\n",
              "<p>54259 rows × 5 columns</p>\n",
              "</div>\n",
              "      <button class=\"colab-df-convert\" onclick=\"convertToInteractive('df-47e6c39d-fcd7-406a-85e6-24d379a08572')\"\n",
              "              title=\"Convert this dataframe to an interactive table.\"\n",
              "              style=\"display:none;\">\n",
              "        \n",
              "  <svg xmlns=\"http://www.w3.org/2000/svg\" height=\"24px\"viewBox=\"0 0 24 24\"\n",
              "       width=\"24px\">\n",
              "    <path d=\"M0 0h24v24H0V0z\" fill=\"none\"/>\n",
              "    <path d=\"M18.56 5.44l.94 2.06.94-2.06 2.06-.94-2.06-.94-.94-2.06-.94 2.06-2.06.94zm-11 1L8.5 8.5l.94-2.06 2.06-.94-2.06-.94L8.5 2.5l-.94 2.06-2.06.94zm10 10l.94 2.06.94-2.06 2.06-.94-2.06-.94-.94-2.06-.94 2.06-2.06.94z\"/><path d=\"M17.41 7.96l-1.37-1.37c-.4-.4-.92-.59-1.43-.59-.52 0-1.04.2-1.43.59L10.3 9.45l-7.72 7.72c-.78.78-.78 2.05 0 2.83L4 21.41c.39.39.9.59 1.41.59.51 0 1.02-.2 1.41-.59l7.78-7.78 2.81-2.81c.8-.78.8-2.07 0-2.86zM5.41 20L4 18.59l7.72-7.72 1.47 1.35L5.41 20z\"/>\n",
              "  </svg>\n",
              "      </button>\n",
              "      \n",
              "  <style>\n",
              "    .colab-df-container {\n",
              "      display:flex;\n",
              "      flex-wrap:wrap;\n",
              "      gap: 12px;\n",
              "    }\n",
              "\n",
              "    .colab-df-convert {\n",
              "      background-color: #E8F0FE;\n",
              "      border: none;\n",
              "      border-radius: 50%;\n",
              "      cursor: pointer;\n",
              "      display: none;\n",
              "      fill: #1967D2;\n",
              "      height: 32px;\n",
              "      padding: 0 0 0 0;\n",
              "      width: 32px;\n",
              "    }\n",
              "\n",
              "    .colab-df-convert:hover {\n",
              "      background-color: #E2EBFA;\n",
              "      box-shadow: 0px 1px 2px rgba(60, 64, 67, 0.3), 0px 1px 3px 1px rgba(60, 64, 67, 0.15);\n",
              "      fill: #174EA6;\n",
              "    }\n",
              "\n",
              "    [theme=dark] .colab-df-convert {\n",
              "      background-color: #3B4455;\n",
              "      fill: #D2E3FC;\n",
              "    }\n",
              "\n",
              "    [theme=dark] .colab-df-convert:hover {\n",
              "      background-color: #434B5C;\n",
              "      box-shadow: 0px 1px 3px 1px rgba(0, 0, 0, 0.15);\n",
              "      filter: drop-shadow(0px 1px 2px rgba(0, 0, 0, 0.3));\n",
              "      fill: #FFFFFF;\n",
              "    }\n",
              "  </style>\n",
              "\n",
              "      <script>\n",
              "        const buttonEl =\n",
              "          document.querySelector('#df-47e6c39d-fcd7-406a-85e6-24d379a08572 button.colab-df-convert');\n",
              "        buttonEl.style.display =\n",
              "          google.colab.kernel.accessAllowed ? 'block' : 'none';\n",
              "\n",
              "        async function convertToInteractive(key) {\n",
              "          const element = document.querySelector('#df-47e6c39d-fcd7-406a-85e6-24d379a08572');\n",
              "          const dataTable =\n",
              "            await google.colab.kernel.invokeFunction('convertToInteractive',\n",
              "                                                     [key], {});\n",
              "          if (!dataTable) return;\n",
              "\n",
              "          const docLinkHtml = 'Like what you see? Visit the ' +\n",
              "            '<a target=\"_blank\" href=https://colab.research.google.com/notebooks/data_table.ipynb>data table notebook</a>'\n",
              "            + ' to learn more about interactive tables.';\n",
              "          element.innerHTML = '';\n",
              "          dataTable['output_type'] = 'display_data';\n",
              "          await google.colab.output.renderOutput(dataTable, element);\n",
              "          const docLink = document.createElement('div');\n",
              "          docLink.innerHTML = docLinkHtml;\n",
              "          element.appendChild(docLink);\n",
              "        }\n",
              "      </script>\n",
              "    </div>\n",
              "  </div>\n",
              "  "
            ]
          },
          "metadata": {},
          "execution_count": 45
        }
      ],
      "source": [
        "data = data.drop(columns=['Open Time', 'Ignore', 'Close Time', 'Quote Asset Volume', 'Number of Trades', 'TB Base Volume', 'TB Quote Volume'])\n",
        "data"
      ]
    },
    {
      "cell_type": "markdown",
      "source": [
        "Kemudian masuk ke tahap Exploratory Data Analysis (EDA) untuk mendeskripsikan nilai variabel yang berfungsi untuk menganalisis karakteristik, menemukan pola, anomali, dan memeriksa asumsi pada data. Pada bagian ini dataset akan dikenali tipe datanya dari setiap kolom. Untuk melakukan EDA deskripsi variabel dapat menggunakan fungsi .info() Dapat dilihat dari kelima kolom yang tersedia semuanya memiliki tipe data float64."
      ],
      "metadata": {
        "id": "pYjK-Y3nUjd1"
      }
    },
    {
      "cell_type": "code",
      "execution_count": null,
      "metadata": {
        "colab": {
          "base_uri": "https://localhost:8080/"
        },
        "id": "KjlpZdetJlGA",
        "outputId": "c278ca12-b3b0-4fb9-f9ed-66d87373ae14"
      },
      "outputs": [
        {
          "output_type": "stream",
          "name": "stdout",
          "text": [
            "<class 'pandas.core.frame.DataFrame'>\n",
            "RangeIndex: 54259 entries, 0 to 54258\n",
            "Data columns (total 5 columns):\n",
            " #   Column  Non-Null Count  Dtype  \n",
            "---  ------  --------------  -----  \n",
            " 0   Open    54259 non-null  float64\n",
            " 1   High    54259 non-null  float64\n",
            " 2   Low     54259 non-null  float64\n",
            " 3   Close   54259 non-null  float64\n",
            " 4   Volume  54259 non-null  float64\n",
            "dtypes: float64(5)\n",
            "memory usage: 2.1 MB\n"
          ]
        }
      ],
      "source": [
        "data.info()"
      ]
    },
    {
      "cell_type": "markdown",
      "source": [
        "Tahap selanjutnya dari EDA adalah mengetahui deskripsi dataset yang berupa nilai statistik dengan memanggil fungsi .describe() didapatkan hasil seperti tabel di bawah ini. Terdapat nilai mean, standar deviasi, minimal value, max value, median, dan lainnya dari kelima kolom yang ada pada dataset."
      ],
      "metadata": {
        "id": "SeIjh_rsVNBV"
      }
    },
    {
      "cell_type": "code",
      "execution_count": null,
      "metadata": {
        "colab": {
          "base_uri": "https://localhost:8080/",
          "height": 300
        },
        "id": "GYb-uozRURGy",
        "outputId": "d2f2cd3f-ec4c-4df5-97db-5f97f684ac4e"
      },
      "outputs": [
        {
          "output_type": "execute_result",
          "data": {
            "text/plain": [
              "               Open          High           Low         Close        Volume\n",
              "count  54259.000000  54259.000000  54259.000000  54259.000000  54259.000000\n",
              "mean   27228.157553  27335.992283  27114.865736  27228.342935   1470.116680\n",
              "std    17992.142776  18066.307378  17914.218258  17992.009675   1592.462848\n",
              "min     4131.230000   4258.530000   3782.130000   4130.640000      0.000000\n",
              "25%     9667.980000   9690.420000   9640.010000   9668.230000    622.758337\n",
              "50%    22855.290000  22942.380000  22764.010000  22853.750000   1004.346480\n",
              "75%    42517.780000  42655.290000  42387.615000  42517.970000   1714.819507\n",
              "max    68635.120000  69000.000000  68462.960000  68633.690000  74378.715690"
            ],
            "text/html": [
              "\n",
              "  <div id=\"df-6349bd8b-b282-4318-84a0-0e48d970d374\">\n",
              "    <div class=\"colab-df-container\">\n",
              "      <div>\n",
              "<style scoped>\n",
              "    .dataframe tbody tr th:only-of-type {\n",
              "        vertical-align: middle;\n",
              "    }\n",
              "\n",
              "    .dataframe tbody tr th {\n",
              "        vertical-align: top;\n",
              "    }\n",
              "\n",
              "    .dataframe thead th {\n",
              "        text-align: right;\n",
              "    }\n",
              "</style>\n",
              "<table border=\"1\" class=\"dataframe\">\n",
              "  <thead>\n",
              "    <tr style=\"text-align: right;\">\n",
              "      <th></th>\n",
              "      <th>Open</th>\n",
              "      <th>High</th>\n",
              "      <th>Low</th>\n",
              "      <th>Close</th>\n",
              "      <th>Volume</th>\n",
              "    </tr>\n",
              "  </thead>\n",
              "  <tbody>\n",
              "    <tr>\n",
              "      <th>count</th>\n",
              "      <td>54259.000000</td>\n",
              "      <td>54259.000000</td>\n",
              "      <td>54259.000000</td>\n",
              "      <td>54259.000000</td>\n",
              "      <td>54259.000000</td>\n",
              "    </tr>\n",
              "    <tr>\n",
              "      <th>mean</th>\n",
              "      <td>27228.157553</td>\n",
              "      <td>27335.992283</td>\n",
              "      <td>27114.865736</td>\n",
              "      <td>27228.342935</td>\n",
              "      <td>1470.116680</td>\n",
              "    </tr>\n",
              "    <tr>\n",
              "      <th>std</th>\n",
              "      <td>17992.142776</td>\n",
              "      <td>18066.307378</td>\n",
              "      <td>17914.218258</td>\n",
              "      <td>17992.009675</td>\n",
              "      <td>1592.462848</td>\n",
              "    </tr>\n",
              "    <tr>\n",
              "      <th>min</th>\n",
              "      <td>4131.230000</td>\n",
              "      <td>4258.530000</td>\n",
              "      <td>3782.130000</td>\n",
              "      <td>4130.640000</td>\n",
              "      <td>0.000000</td>\n",
              "    </tr>\n",
              "    <tr>\n",
              "      <th>25%</th>\n",
              "      <td>9667.980000</td>\n",
              "      <td>9690.420000</td>\n",
              "      <td>9640.010000</td>\n",
              "      <td>9668.230000</td>\n",
              "      <td>622.758337</td>\n",
              "    </tr>\n",
              "    <tr>\n",
              "      <th>50%</th>\n",
              "      <td>22855.290000</td>\n",
              "      <td>22942.380000</td>\n",
              "      <td>22764.010000</td>\n",
              "      <td>22853.750000</td>\n",
              "      <td>1004.346480</td>\n",
              "    </tr>\n",
              "    <tr>\n",
              "      <th>75%</th>\n",
              "      <td>42517.780000</td>\n",
              "      <td>42655.290000</td>\n",
              "      <td>42387.615000</td>\n",
              "      <td>42517.970000</td>\n",
              "      <td>1714.819507</td>\n",
              "    </tr>\n",
              "    <tr>\n",
              "      <th>max</th>\n",
              "      <td>68635.120000</td>\n",
              "      <td>69000.000000</td>\n",
              "      <td>68462.960000</td>\n",
              "      <td>68633.690000</td>\n",
              "      <td>74378.715690</td>\n",
              "    </tr>\n",
              "  </tbody>\n",
              "</table>\n",
              "</div>\n",
              "      <button class=\"colab-df-convert\" onclick=\"convertToInteractive('df-6349bd8b-b282-4318-84a0-0e48d970d374')\"\n",
              "              title=\"Convert this dataframe to an interactive table.\"\n",
              "              style=\"display:none;\">\n",
              "        \n",
              "  <svg xmlns=\"http://www.w3.org/2000/svg\" height=\"24px\"viewBox=\"0 0 24 24\"\n",
              "       width=\"24px\">\n",
              "    <path d=\"M0 0h24v24H0V0z\" fill=\"none\"/>\n",
              "    <path d=\"M18.56 5.44l.94 2.06.94-2.06 2.06-.94-2.06-.94-.94-2.06-.94 2.06-2.06.94zm-11 1L8.5 8.5l.94-2.06 2.06-.94-2.06-.94L8.5 2.5l-.94 2.06-2.06.94zm10 10l.94 2.06.94-2.06 2.06-.94-2.06-.94-.94-2.06-.94 2.06-2.06.94z\"/><path d=\"M17.41 7.96l-1.37-1.37c-.4-.4-.92-.59-1.43-.59-.52 0-1.04.2-1.43.59L10.3 9.45l-7.72 7.72c-.78.78-.78 2.05 0 2.83L4 21.41c.39.39.9.59 1.41.59.51 0 1.02-.2 1.41-.59l7.78-7.78 2.81-2.81c.8-.78.8-2.07 0-2.86zM5.41 20L4 18.59l7.72-7.72 1.47 1.35L5.41 20z\"/>\n",
              "  </svg>\n",
              "      </button>\n",
              "      \n",
              "  <style>\n",
              "    .colab-df-container {\n",
              "      display:flex;\n",
              "      flex-wrap:wrap;\n",
              "      gap: 12px;\n",
              "    }\n",
              "\n",
              "    .colab-df-convert {\n",
              "      background-color: #E8F0FE;\n",
              "      border: none;\n",
              "      border-radius: 50%;\n",
              "      cursor: pointer;\n",
              "      display: none;\n",
              "      fill: #1967D2;\n",
              "      height: 32px;\n",
              "      padding: 0 0 0 0;\n",
              "      width: 32px;\n",
              "    }\n",
              "\n",
              "    .colab-df-convert:hover {\n",
              "      background-color: #E2EBFA;\n",
              "      box-shadow: 0px 1px 2px rgba(60, 64, 67, 0.3), 0px 1px 3px 1px rgba(60, 64, 67, 0.15);\n",
              "      fill: #174EA6;\n",
              "    }\n",
              "\n",
              "    [theme=dark] .colab-df-convert {\n",
              "      background-color: #3B4455;\n",
              "      fill: #D2E3FC;\n",
              "    }\n",
              "\n",
              "    [theme=dark] .colab-df-convert:hover {\n",
              "      background-color: #434B5C;\n",
              "      box-shadow: 0px 1px 3px 1px rgba(0, 0, 0, 0.15);\n",
              "      filter: drop-shadow(0px 1px 2px rgba(0, 0, 0, 0.3));\n",
              "      fill: #FFFFFF;\n",
              "    }\n",
              "  </style>\n",
              "\n",
              "      <script>\n",
              "        const buttonEl =\n",
              "          document.querySelector('#df-6349bd8b-b282-4318-84a0-0e48d970d374 button.colab-df-convert');\n",
              "        buttonEl.style.display =\n",
              "          google.colab.kernel.accessAllowed ? 'block' : 'none';\n",
              "\n",
              "        async function convertToInteractive(key) {\n",
              "          const element = document.querySelector('#df-6349bd8b-b282-4318-84a0-0e48d970d374');\n",
              "          const dataTable =\n",
              "            await google.colab.kernel.invokeFunction('convertToInteractive',\n",
              "                                                     [key], {});\n",
              "          if (!dataTable) return;\n",
              "\n",
              "          const docLinkHtml = 'Like what you see? Visit the ' +\n",
              "            '<a target=\"_blank\" href=https://colab.research.google.com/notebooks/data_table.ipynb>data table notebook</a>'\n",
              "            + ' to learn more about interactive tables.';\n",
              "          element.innerHTML = '';\n",
              "          dataTable['output_type'] = 'display_data';\n",
              "          await google.colab.output.renderOutput(dataTable, element);\n",
              "          const docLink = document.createElement('div');\n",
              "          docLink.innerHTML = docLinkHtml;\n",
              "          element.appendChild(docLink);\n",
              "        }\n",
              "      </script>\n",
              "    </div>\n",
              "  </div>\n",
              "  "
            ]
          },
          "metadata": {},
          "execution_count": 47
        }
      ],
      "source": [
        "data.describe()"
      ]
    },
    {
      "cell_type": "markdown",
      "source": [
        "Selanjutnya masih di tahap EDA yaitu mengecek apakah terdapat data yang hilang pada dataset yang digunakan yaitu dengan memanggil fungsi .isnull().sum() seperti pada cell di bawah ini. Dapat dilihat hasil dari kelima kolom tersebut menunjukan angka 0 yang berarti tidak ada data yang hilang/missing pada dataset tersebut."
      ],
      "metadata": {
        "id": "3UK6tK5jWZQC"
      }
    },
    {
      "cell_type": "code",
      "execution_count": null,
      "metadata": {
        "colab": {
          "base_uri": "https://localhost:8080/"
        },
        "id": "spmtC8aoUzpd",
        "outputId": "1a88b68d-8d7b-42bd-a69e-85c338a0b4f6"
      },
      "outputs": [
        {
          "output_type": "execute_result",
          "data": {
            "text/plain": [
              "Open      0\n",
              "High      0\n",
              "Low       0\n",
              "Close     0\n",
              "Volume    0\n",
              "dtype: int64"
            ]
          },
          "metadata": {},
          "execution_count": 48
        }
      ],
      "source": [
        "data.isnull().sum()"
      ]
    },
    {
      "cell_type": "markdown",
      "source": [
        "Kemudian menampilkan bentuk/shape dari dataset yang digunakan dengan memanggil fungsi .shape diperoleh hasil seperti pada cell berikut yang menunjukan terdapat 54259 baris dan 5 kolom. Jumlah kolom berkurang dari yang semula 10 menjadi 5 dikarenakan terdapat beberapa kolom yang tidak akan digunakan sehingga telah di drop dari dataset. "
      ],
      "metadata": {
        "id": "smOifa6QWwcU"
      }
    },
    {
      "cell_type": "code",
      "execution_count": null,
      "metadata": {
        "colab": {
          "base_uri": "https://localhost:8080/"
        },
        "id": "pbtHgKqmoPrs",
        "outputId": "1feb7d2d-2adf-45e4-8c93-0284559cc1a5"
      },
      "outputs": [
        {
          "output_type": "execute_result",
          "data": {
            "text/plain": [
              "(54259, 5)"
            ]
          },
          "metadata": {},
          "execution_count": 49
        }
      ],
      "source": [
        "data.shape"
      ]
    },
    {
      "cell_type": "markdown",
      "source": [
        "Tahap selanjutnya adalah menangani Outliers, Outliers adalah sampel yang nilainya sangat jauh dari cakupan umum data utama. Outliers adalah hasil pengamatan yang kemunculannya sangat jarang dan berbeda dari data hasil pengamatan lainnya. Sehingga Outliers perlu dihilangkan, pada kasus ini digunakan metode IQR. Untuk menghilangkan Outliers maka diperlukan visualisasi menggunakan boxplot dari setiap sampel data. Boxplot berfungsi untuk menunjukan ukuran lokasi dan penyebaran, serta memberikan informasi tentang simetri dan outliers.\n",
        "\n",
        "Boxplot pertama adalah nilai dari sampel kolom 'Open' dapat dilihat tidak terdapat nilai Outliers pada sampel 'Open'"
      ],
      "metadata": {
        "id": "0eBxeyJAXZJb"
      }
    },
    {
      "cell_type": "code",
      "execution_count": null,
      "metadata": {
        "colab": {
          "base_uri": "https://localhost:8080/",
          "height": 296
        },
        "id": "TZgkNYSSvgMX",
        "outputId": "bbadb364-cbc8-4e9c-8258-bbbc79954e64"
      },
      "outputs": [
        {
          "output_type": "execute_result",
          "data": {
            "text/plain": [
              "<matplotlib.axes._subplots.AxesSubplot at 0x7f79e9617110>"
            ]
          },
          "metadata": {},
          "execution_count": 50
        },
        {
          "output_type": "display_data",
          "data": {
            "text/plain": [
              "<Figure size 432x288 with 1 Axes>"
            ],
            "image/png": "[encoded data removed]"
          },
          "metadata": {
            "needs_background": "light"
          }
        }
      ],
      "source": [
        "sns.boxplot(x=data['Open'])"
      ]
    },
    {
      "cell_type": "markdown",
      "source": [
        "Boxplot kedua adalah nilai dari sampel kolom 'High' dapat dilihat tidak terdapat nilai Outliers pada sampel 'High'"
      ],
      "metadata": {
        "id": "oWQ-QE9RYUYd"
      }
    },
    {
      "cell_type": "code",
      "execution_count": null,
      "metadata": {
        "colab": {
          "base_uri": "https://localhost:8080/",
          "height": 296
        },
        "id": "ieZb3OsylxR_",
        "outputId": "ff8b98f2-e644-4a57-b4e1-21ac29d23ea3"
      },
      "outputs": [
        {
          "output_type": "execute_result",
          "data": {
            "text/plain": [
              "<matplotlib.axes._subplots.AxesSubplot at 0x7f79e95e9dd0>"
            ]
          },
          "metadata": {},
          "execution_count": 51
        },
        {
          "output_type": "display_data",
          "data": {
            "text/plain": [
              "<Figure size 432x288 with 1 Axes>"
            ],
            "image/png": "[encoded data removed]"
          },
          "metadata": {
            "needs_background": "light"
          }
        }
      ],
      "source": [
        "sns.boxplot(x=data['High'])"
      ]
    },
    {
      "cell_type": "markdown",
      "source": [
        "Boxplot ketiga adalah nilai dari sampel kolom 'Low' dapat dilihat tidak terdapat nilai Outliers pada sampel 'Low'"
      ],
      "metadata": {
        "id": "RL5lUZ3cYmfb"
      }
    },
    {
      "cell_type": "code",
      "execution_count": null,
      "metadata": {
        "colab": {
          "base_uri": "https://localhost:8080/",
          "height": 296
        },
        "id": "MNJE0nybl4MI",
        "outputId": "93dbc77a-296d-4578-8e2d-97633e19d971"
      },
      "outputs": [
        {
          "output_type": "execute_result",
          "data": {
            "text/plain": [
              "<matplotlib.axes._subplots.AxesSubplot at 0x7f79e9557690>"
            ]
          },
          "metadata": {},
          "execution_count": 52
        },
        {
          "output_type": "display_data",
          "data": {
            "text/plain": [
              "<Figure size 432x288 with 1 Axes>"
            ],
            "image/png": "[encoded data removed]"
          },
          "metadata": {
            "needs_background": "light"
          }
        }
      ],
      "source": [
        "sns.boxplot(x=data['Low'])"
      ]
    },
    {
      "cell_type": "markdown",
      "source": [
        "Boxplot keempat adalah nilai dari sampel kolom 'Close' dapat dilihat tidak terdapat nilai Outliers pada sampel 'Close'"
      ],
      "metadata": {
        "id": "Pi1zqXzdYprF"
      }
    },
    {
      "cell_type": "code",
      "execution_count": null,
      "metadata": {
        "colab": {
          "base_uri": "https://localhost:8080/",
          "height": 296
        },
        "id": "bwQHM0BbmAIO",
        "outputId": "851e4e48-12a3-4fc0-d840-e06bbbd50a87"
      },
      "outputs": [
        {
          "output_type": "execute_result",
          "data": {
            "text/plain": [
              "<matplotlib.axes._subplots.AxesSubplot at 0x7f79e954ad90>"
            ]
          },
          "metadata": {},
          "execution_count": 53
        },
        {
          "output_type": "display_data",
          "data": {
            "text/plain": [
              "<Figure size 432x288 with 1 Axes>"
            ],
            "image/png": "[encoded data removed]"
          },
          "metadata": {
            "needs_background": "light"
          }
        }
      ],
      "source": [
        "sns.boxplot(x=data['Close'])"
      ]
    },
    {
      "cell_type": "markdown",
      "source": [
        "Boxplot terakhir adalah nilai dari sampel kolom Volume' dapat dilihat banyak sampel dari kolom ini yang berada diluar sebaran data sehingga banyak nilai Outliers pada sampel 'Volume' yang perlu dihilangkan."
      ],
      "metadata": {
        "id": "ZQTwhW2eYsWT"
      }
    },
    {
      "cell_type": "code",
      "execution_count": null,
      "metadata": {
        "colab": {
          "base_uri": "https://localhost:8080/",
          "height": 296
        },
        "id": "ilC752WdmFNz",
        "outputId": "3f2c5fb3-35f8-4825-f265-3d8fe7ca0fd5"
      },
      "outputs": [
        {
          "output_type": "execute_result",
          "data": {
            "text/plain": [
              "<matplotlib.axes._subplots.AxesSubplot at 0x7f79e94be110>"
            ]
          },
          "metadata": {},
          "execution_count": 54
        },
        {
          "output_type": "display_data",
          "data": {
            "text/plain": [
              "<Figure size 432x288 with 1 Axes>"
            ],
            "image/png": "[encoded data removed]"
          },
          "metadata": {
            "needs_background": "light"
          }
        }
      ],
      "source": [
        "sns.boxplot(x=data['Volume'])"
      ]
    },
    {
      "cell_type": "markdown",
      "source": [
        "Langkah selanjutnya adalah menghilangkan Outliers pada dataset yang berada pada sampel 'Volume' dengan menggunakan Metode IQR. Untuk mengimplementasikan metode IQR diperlukan pemahaman terkait kuartil. Kuartil adalah tiga nilai yang membagi distribusi data menjadi empat sebaran. Seperempat dari data berada di bawah kuartil pertama (Q1), setengah dari data berada di bawah kuartil kedua (Q2), dan tiga perempat dari data berada di kuartil ketiga (Q3). Dengan demikian interquartile range atau IQR = Q3 - Q1. Sudah kita ketahui sebelumnya dimana nilai Q1 merupakan 0.25 dari total sebaran data, dan nilai Q3 merupakan 0.75 dari total sebaran data. \n",
        "\n",
        "Untuk menghilangkan outliers maka diperlukan perhitungan untuk menentukan nilai max dan nilai min dengan rumus Q1-1.5*IQR untuk nilai MIN dan Q3+1.5*IQR untuk nilai max. Sehingga apabila terdapat data yang nilainya diluar rentang nilai MAX dan MIN akan dianggap sebagai outliers dan dihilangkan.\n",
        "\n",
        "Kemudian setelah menghilangkan outliers yang terdapat pada dataset dilakukan pemanggilan fungsi .shape untuk mengetahui banyaknya jumlah sampel yang tersisa setelah dilakukan outliers. Dapat dilihat terdapat 19966 baris yang tersisa dari yang semula sebesar 54259. "
      ],
      "metadata": {
        "id": "Bzp9-AaEZJBu"
      }
    },
    {
      "cell_type": "code",
      "execution_count": null,
      "metadata": {
        "colab": {
          "base_uri": "https://localhost:8080/"
        },
        "id": "lVKjclykn0PV",
        "outputId": "ebc8708d-83b0-431c-ee7d-25677dbb6865"
      },
      "outputs": [
        {
          "output_type": "execute_result",
          "data": {
            "text/plain": [
              "(49966, 5)"
            ]
          },
          "metadata": {},
          "execution_count": 55
        }
      ],
      "source": [
        "Q1 = data.quantile(0.25)\n",
        "Q3 = data.quantile(0.75)\n",
        "IQR=Q3-Q1\n",
        "data=data[~((data<(Q1-1.5*IQR))|(data>(Q3+1.5*IQR))).any(axis=1)]\n",
        " \n",
        "data.shape"
      ]
    },
    {
      "cell_type": "markdown",
      "source": [
        "Dilanjutkan proses analisis data dengan menggunakan teknik EDA Univariate Analysis. Pada tahap ini dilakukan pembagian dataset menjadi data numerikal dan kategorikal, berhubung semua tipe data yang digunakan pada dataset adalah numerikal maka tidak terdapat deklarasi tipe data kategorikal."
      ],
      "metadata": {
        "id": "NKwcrNExbHhK"
      }
    },
    {
      "cell_type": "code",
      "execution_count": null,
      "metadata": {
        "id": "U2_hExJIpnMx"
      },
      "outputs": [],
      "source": [
        "numerical_features = ['Open', 'High', 'Low', 'Close', 'Volume']"
      ]
    },
    {
      "cell_type": "markdown",
      "source": [
        "Selanjutnya, untuk dataset dengan fitur numerikal dideklarasikan fungsi .hist90 untuk menampilkan plotting data dalam bentuk histogram yang berisikan masing-masing fiturnya menggunakan code pada cell di bawah ini."
      ],
      "metadata": {
        "id": "eBM0dCIRbndt"
      }
    },
    {
      "cell_type": "code",
      "execution_count": null,
      "metadata": {
        "colab": {
          "base_uri": "https://localhost:8080/",
          "height": 879
        },
        "id": "k7fxS-SPvi7M",
        "outputId": "a651f69c-a745-4fc6-f8a1-3f60d2c97e07"
      },
      "outputs": [
        {
          "output_type": "display_data",
          "data": {
            "text/plain": [
              "<Figure size 1440x1080 with 6 Axes>"
            ],
            "image/png": "[encoded data removed]"
          },
          "metadata": {
            "needs_background": "light"
          }
        }
      ],
      "source": [
        "data.hist(bins=50, figsize=(20,15))\n",
        "plt.show()"
      ]
    },
    {
      "cell_type": "markdown",
      "source": [
        "Berikutnya masih pada tahap EDA tetapi kali ini menggunakan Multivariative Analysis yaitu melakukan analisa mengenai hubungan antara beberapa fitur/variabel yang terdapat pada dataset. Untuk mengamati hubungan dari masing-masing fitur dapat dilakukan plotting grafik menggunakan fungsi .pairplot seperti pada gambar di bawah ini.\n",
        "\n",
        "Dapat dilihat apabila fitur-fitur tersebut memiliki hubungan satu sama lain maka grafik akan naik ke kanan atas seiring bertambahnya nilai pada sumbu x dan y. Jika fitur-fitur memiliki hubungan yang lemah atau bahkan tidak berhubungan satu sama lain maka grafik yang akan dihasilkan tidak menunjukan sebuah pola dan akan menghasilkan grafik acak."
      ],
      "metadata": {
        "id": "gCsxLpNxcvoh"
      }
    },
    {
      "cell_type": "code",
      "execution_count": null,
      "metadata": {
        "colab": {
          "base_uri": "https://localhost:8080/",
          "height": 743
        },
        "id": "8dx1t3Kv5Qk2",
        "outputId": "8c38c183-eb78-44dd-eb11-dba00ef0a683"
      },
      "outputs": [
        {
          "output_type": "execute_result",
          "data": {
            "text/plain": [
              "<seaborn.axisgrid.PairGrid at 0x7f79ede57110>"
            ]
          },
          "metadata": {},
          "execution_count": 39
        },
        {
          "output_type": "display_data",
          "data": {
            "text/plain": [
              "<Figure size 720x720 with 20 Axes>"
            ],
            "image/png": "[encoded data removed]"
          },
          "metadata": {
            "needs_background": "light"
          }
        }
      ],
      "source": [
        "sns.pairplot(data, diag_kind = 'kde')"
      ]
    },
    {
      "cell_type": "markdown",
      "source": [
        "Tahap selanjutnya dalam melakukan Multivariative Analysis adalah dengan  Correlation Matrix dengan menggunakan fungsi .corr() untuk menampilkan matriks korelasi sebaran data pada grafik pairplot di atas. Arah korelasi antara dua variabel atau lebih dapat bernilai positif jika nilai kedua variabel cenderung meningkat dan negatif jika nilai salah satu variabel cenderung meningkat ketika nilai variabel lainnya menurun.\n",
        "\n",
        "Selanjutnya pada Correlation Matrix dapat dilihat jika kolom-kolom pada matriks bernilai 1 atau berwarna merah maka mengindikasikan kedua fitur tersebut sangat berkorelasi satu dengan lainnya. Sebaliknya jika bernilai mendekati 0 atau berwarna biru maka fitur tersebut tidak saling berkolerasi/berkolerasi lemah."
      ],
      "metadata": {
        "id": "q5Ygzgc7fE1A"
      }
    },
    {
      "cell_type": "code",
      "execution_count": null,
      "metadata": {
        "colab": {
          "base_uri": "https://localhost:8080/",
          "height": 521
        },
        "id": "PPvsRa1K_XEK",
        "outputId": "c39e4468-3f7e-4815-dc4f-a7bf748e3d0c"
      },
      "outputs": [
        {
          "output_type": "execute_result",
          "data": {
            "text/plain": [
              "Text(0.5, 1.0, 'Correlation Matrix untuk Fitur Numerik ')"
            ]
          },
          "metadata": {},
          "execution_count": 56
        },
        {
          "output_type": "display_data",
          "data": {
            "text/plain": [
              "<Figure size 720x576 with 2 Axes>"
            ],
            "image/png": "[encoded data removed]"
          },
          "metadata": {
            "needs_background": "light"
          }
        }
      ],
      "source": [
        "plt.figure(figsize=(10, 8))\n",
        "correlation_matrix = data.corr().round(2)\n",
        " \n",
        "# Untuk menge-print nilai di dalam kotak, gunakan parameter anot=True\n",
        "sns.heatmap(data=correlation_matrix, annot=True, cmap='coolwarm', linewidths=0.5, )\n",
        "plt.title(\"Correlation Matrix untuk Fitur Numerik \", size=20)"
      ]
    },
    {
      "cell_type": "markdown",
      "source": [
        "Berdasarkan hasil Correlation Matrix di atas dapat dilihat bahwa fitur 'Volume' memiliki tingkat kolerasi paling lemah jika dibandingkan dengan fitur lainnya. Sehingga fitur 'Volume' perlu dihapus menggunakan fungsi .drop() dan dataset akan emiliki 4 fitur yang tersisa yaitu 'Open', 'High', 'Low', dan 'Close'."
      ],
      "metadata": {
        "id": "3Lsx7du9gylo"
      }
    },
    {
      "cell_type": "code",
      "execution_count": null,
      "metadata": {
        "colab": {
          "base_uri": "https://localhost:8080/",
          "height": 293
        },
        "id": "O0Qc06R7goAv",
        "outputId": "c8363a42-0c71-4c25-8e9b-b6f5a2bf922e"
      },
      "outputs": [
        {
          "output_type": "stream",
          "name": "stderr",
          "text": [
            "/usr/local/lib/python3.7/dist-packages/pandas/core/frame.py:4913: SettingWithCopyWarning: \n",
            "A value is trying to be set on a copy of a slice from a DataFrame\n",
            "\n",
            "See the caveats in the documentation: https://pandas.pydata.org/pandas-docs/stable/user_guide/indexing.html#returning-a-view-versus-a-copy\n",
            "  errors=errors,\n"
          ]
        },
        {
          "output_type": "execute_result",
          "data": {
            "text/plain": [
              "      Open     High      Low    Close\n",
              "0  9509.07  9535.00  9503.07  9517.75\n",
              "1  9517.03  9539.00  9507.00  9532.58\n",
              "2  9533.59  9534.00  9500.00  9500.25\n",
              "3  9500.25  9514.46  9460.71  9465.25\n",
              "4  9465.25  9488.94  9430.01  9460.42"
            ],
            "text/html": [
              "\n",
              "  <div id=\"df-2dab6fa0-bfad-4597-8673-b5b0796ff329\">\n",
              "    <div class=\"colab-df-container\">\n",
              "      <div>\n",
              "<style scoped>\n",
              "    .dataframe tbody tr th:only-of-type {\n",
              "        vertical-align: middle;\n",
              "    }\n",
              "\n",
              "    .dataframe tbody tr th {\n",
              "        vertical-align: top;\n",
              "    }\n",
              "\n",
              "    .dataframe thead th {\n",
              "        text-align: right;\n",
              "    }\n",
              "</style>\n",
              "<table border=\"1\" class=\"dataframe\">\n",
              "  <thead>\n",
              "    <tr style=\"text-align: right;\">\n",
              "      <th></th>\n",
              "      <th>Open</th>\n",
              "      <th>High</th>\n",
              "      <th>Low</th>\n",
              "      <th>Close</th>\n",
              "    </tr>\n",
              "  </thead>\n",
              "  <tbody>\n",
              "    <tr>\n",
              "      <th>0</th>\n",
              "      <td>9509.07</td>\n",
              "      <td>9535.00</td>\n",
              "      <td>9503.07</td>\n",
              "      <td>9517.75</td>\n",
              "    </tr>\n",
              "    <tr>\n",
              "      <th>1</th>\n",
              "      <td>9517.03</td>\n",
              "      <td>9539.00</td>\n",
              "      <td>9507.00</td>\n",
              "      <td>9532.58</td>\n",
              "    </tr>\n",
              "    <tr>\n",
              "      <th>2</th>\n",
              "      <td>9533.59</td>\n",
              "      <td>9534.00</td>\n",
              "      <td>9500.00</td>\n",
              "      <td>9500.25</td>\n",
              "    </tr>\n",
              "    <tr>\n",
              "      <th>3</th>\n",
              "      <td>9500.25</td>\n",
              "      <td>9514.46</td>\n",
              "      <td>9460.71</td>\n",
              "      <td>9465.25</td>\n",
              "    </tr>\n",
              "    <tr>\n",
              "      <th>4</th>\n",
              "      <td>9465.25</td>\n",
              "      <td>9488.94</td>\n",
              "      <td>9430.01</td>\n",
              "      <td>9460.42</td>\n",
              "    </tr>\n",
              "  </tbody>\n",
              "</table>\n",
              "</div>\n",
              "      <button class=\"colab-df-convert\" onclick=\"convertToInteractive('df-2dab6fa0-bfad-4597-8673-b5b0796ff329')\"\n",
              "              title=\"Convert this dataframe to an interactive table.\"\n",
              "              style=\"display:none;\">\n",
              "        \n",
              "  <svg xmlns=\"http://www.w3.org/2000/svg\" height=\"24px\"viewBox=\"0 0 24 24\"\n",
              "       width=\"24px\">\n",
              "    <path d=\"M0 0h24v24H0V0z\" fill=\"none\"/>\n",
              "    <path d=\"M18.56 5.44l.94 2.06.94-2.06 2.06-.94-2.06-.94-.94-2.06-.94 2.06-2.06.94zm-11 1L8.5 8.5l.94-2.06 2.06-.94-2.06-.94L8.5 2.5l-.94 2.06-2.06.94zm10 10l.94 2.06.94-2.06 2.06-.94-2.06-.94-.94-2.06-.94 2.06-2.06.94z\"/><path d=\"M17.41 7.96l-1.37-1.37c-.4-.4-.92-.59-1.43-.59-.52 0-1.04.2-1.43.59L10.3 9.45l-7.72 7.72c-.78.78-.78 2.05 0 2.83L4 21.41c.39.39.9.59 1.41.59.51 0 1.02-.2 1.41-.59l7.78-7.78 2.81-2.81c.8-.78.8-2.07 0-2.86zM5.41 20L4 18.59l7.72-7.72 1.47 1.35L5.41 20z\"/>\n",
              "  </svg>\n",
              "      </button>\n",
              "      \n",
              "  <style>\n",
              "    .colab-df-container {\n",
              "      display:flex;\n",
              "      flex-wrap:wrap;\n",
              "      gap: 12px;\n",
              "    }\n",
              "\n",
              "    .colab-df-convert {\n",
              "      background-color: #E8F0FE;\n",
              "      border: none;\n",
              "      border-radius: 50%;\n",
              "      cursor: pointer;\n",
              "      display: none;\n",
              "      fill: #1967D2;\n",
              "      height: 32px;\n",
              "      padding: 0 0 0 0;\n",
              "      width: 32px;\n",
              "    }\n",
              "\n",
              "    .colab-df-convert:hover {\n",
              "      background-color: #E2EBFA;\n",
              "      box-shadow: 0px 1px 2px rgba(60, 64, 67, 0.3), 0px 1px 3px 1px rgba(60, 64, 67, 0.15);\n",
              "      fill: #174EA6;\n",
              "    }\n",
              "\n",
              "    [theme=dark] .colab-df-convert {\n",
              "      background-color: #3B4455;\n",
              "      fill: #D2E3FC;\n",
              "    }\n",
              "\n",
              "    [theme=dark] .colab-df-convert:hover {\n",
              "      background-color: #434B5C;\n",
              "      box-shadow: 0px 1px 3px 1px rgba(0, 0, 0, 0.15);\n",
              "      filter: drop-shadow(0px 1px 2px rgba(0, 0, 0, 0.3));\n",
              "      fill: #FFFFFF;\n",
              "    }\n",
              "  </style>\n",
              "\n",
              "      <script>\n",
              "        const buttonEl =\n",
              "          document.querySelector('#df-2dab6fa0-bfad-4597-8673-b5b0796ff329 button.colab-df-convert');\n",
              "        buttonEl.style.display =\n",
              "          google.colab.kernel.accessAllowed ? 'block' : 'none';\n",
              "\n",
              "        async function convertToInteractive(key) {\n",
              "          const element = document.querySelector('#df-2dab6fa0-bfad-4597-8673-b5b0796ff329');\n",
              "          const dataTable =\n",
              "            await google.colab.kernel.invokeFunction('convertToInteractive',\n",
              "                                                     [key], {});\n",
              "          if (!dataTable) return;\n",
              "\n",
              "          const docLinkHtml = 'Like what you see? Visit the ' +\n",
              "            '<a target=\"_blank\" href=https://colab.research.google.com/notebooks/data_table.ipynb>data table notebook</a>'\n",
              "            + ' to learn more about interactive tables.';\n",
              "          element.innerHTML = '';\n",
              "          dataTable['output_type'] = 'display_data';\n",
              "          await google.colab.output.renderOutput(dataTable, element);\n",
              "          const docLink = document.createElement('div');\n",
              "          docLink.innerHTML = docLinkHtml;\n",
              "          element.appendChild(docLink);\n",
              "        }\n",
              "      </script>\n",
              "    </div>\n",
              "  </div>\n",
              "  "
            ]
          },
          "metadata": {},
          "execution_count": 20
        }
      ],
      "source": [
        "data.drop(['Volume'], inplace=True, axis=1)\n",
        "data.head()"
      ]
    },
    {
      "cell_type": "markdown",
      "source": [
        "Setelah melakukan Exploratory Data Analysis dilanjutkan ke tahap Data Preparation. Dimana pada tahap ini data akan disiapkan yang nantinya akan ditraining. Dikarenakan tidak terdapat data dengan fitur kategorikal maka tidak diperlukan penggunaaan fungsi encoding dan juga tidak ada metode Reduksi Dimensi menggunakan PCA.\n",
        "\n",
        "Pada tahap ini data dibagi menjadi atribut dan label menggunakan fungsi train_test_split dari library sklearn.model_selection kemudian data dibagi menjadi training dan test. Variabel x merupakan atribut yang terdiri semua kolom kecuali 'CLose' dan variabel y merupakan label/target yang terdiri dari kolom 'Close'."
      ],
      "metadata": {
        "id": "MBxZ9wNKhWf-"
      }
    },
    {
      "cell_type": "code",
      "execution_count": null,
      "metadata": {
        "id": "jb5KWS1ViL2h"
      },
      "outputs": [],
      "source": [
        "from sklearn.model_selection import train_test_split\n",
        " \n",
        "x = data.drop([\"Close\"],axis =1)\n",
        "y = data[\"Close\"]\n",
        "x_train, x_test, y_train, y_test = train_test_split(x, y, test_size = 0.1, random_state = 110)"
      ]
    },
    {
      "cell_type": "markdown",
      "source": [
        "Selanjutnya dideklarasikan code untuk mengetahui total sampel yang digunakan dalam training. Total dataset sebanyak 49966, dengan rincian 44969 data latih dan 4997 data tes."
      ],
      "metadata": {
        "id": "BuuCtCA6id8m"
      }
    },
    {
      "cell_type": "code",
      "execution_count": null,
      "metadata": {
        "colab": {
          "base_uri": "https://localhost:8080/"
        },
        "id": "NDW82WiJia3B",
        "outputId": "11786b1a-1756-48a9-8584-c6b9284e5055"
      },
      "outputs": [
        {
          "output_type": "stream",
          "name": "stdout",
          "text": [
            "Total data of sample in whole dataset: 49966\n",
            "Total data of sample in train dataset: 44969\n",
            "Total data of sample in test dataset: 4997\n"
          ]
        }
      ],
      "source": [
        "print(f'Total data of sample in whole dataset: {len(x)}')\n",
        "print(f'Total data of sample in train dataset: {len(x_train)}')\n",
        "print(f'Total data of sample in test dataset: {len(x_test)}')"
      ]
    },
    {
      "cell_type": "markdown",
      "source": [
        "Kemudian masih pada tahap data preparation, dilakukan standarisasi besaran/nilai dari fitur numerikal 'Open', 'High', dan 'Low' menggunakan function StandardScaler() dari library sklearn.preporcessing sehingga data akan bernilai dari rentang -1 hingga 1. Standarisasi dapat membuat training model lebih cepat dan dapat membantu untuk meningkatkan akurasi model."
      ],
      "metadata": {
        "id": "viRAR375i1j1"
      }
    },
    {
      "cell_type": "code",
      "execution_count": null,
      "metadata": {
        "colab": {
          "base_uri": "https://localhost:8080/",
          "height": 206
        },
        "id": "G7bIyE0UisF2",
        "outputId": "365a40c5-d1fb-49e8-e6ef-790444baa920"
      },
      "outputs": [
        {
          "output_type": "execute_result",
          "data": {
            "text/plain": [
              "           Open      High       Low\n",
              "18615 -0.869647 -0.868160 -0.868550\n",
              "12391 -1.126406 -1.125282 -1.125505\n",
              "10223 -1.031683 -1.031475 -1.033914\n",
              "2563  -0.953836 -0.955288 -0.954090\n",
              "30845  1.556490  1.550665  1.548198"
            ],
            "text/html": [
              "\n",
              "  <div id=\"df-824e0431-b7e1-4411-a8e6-db3e612dc137\">\n",
              "    <div class=\"colab-df-container\">\n",
              "      <div>\n",
              "<style scoped>\n",
              "    .dataframe tbody tr th:only-of-type {\n",
              "        vertical-align: middle;\n",
              "    }\n",
              "\n",
              "    .dataframe tbody tr th {\n",
              "        vertical-align: top;\n",
              "    }\n",
              "\n",
              "    .dataframe thead th {\n",
              "        text-align: right;\n",
              "    }\n",
              "</style>\n",
              "<table border=\"1\" class=\"dataframe\">\n",
              "  <thead>\n",
              "    <tr style=\"text-align: right;\">\n",
              "      <th></th>\n",
              "      <th>Open</th>\n",
              "      <th>High</th>\n",
              "      <th>Low</th>\n",
              "    </tr>\n",
              "  </thead>\n",
              "  <tbody>\n",
              "    <tr>\n",
              "      <th>18615</th>\n",
              "      <td>-0.869647</td>\n",
              "      <td>-0.868160</td>\n",
              "      <td>-0.868550</td>\n",
              "    </tr>\n",
              "    <tr>\n",
              "      <th>12391</th>\n",
              "      <td>-1.126406</td>\n",
              "      <td>-1.125282</td>\n",
              "      <td>-1.125505</td>\n",
              "    </tr>\n",
              "    <tr>\n",
              "      <th>10223</th>\n",
              "      <td>-1.031683</td>\n",
              "      <td>-1.031475</td>\n",
              "      <td>-1.033914</td>\n",
              "    </tr>\n",
              "    <tr>\n",
              "      <th>2563</th>\n",
              "      <td>-0.953836</td>\n",
              "      <td>-0.955288</td>\n",
              "      <td>-0.954090</td>\n",
              "    </tr>\n",
              "    <tr>\n",
              "      <th>30845</th>\n",
              "      <td>1.556490</td>\n",
              "      <td>1.550665</td>\n",
              "      <td>1.548198</td>\n",
              "    </tr>\n",
              "  </tbody>\n",
              "</table>\n",
              "</div>\n",
              "      <button class=\"colab-df-convert\" onclick=\"convertToInteractive('df-824e0431-b7e1-4411-a8e6-db3e612dc137')\"\n",
              "              title=\"Convert this dataframe to an interactive table.\"\n",
              "              style=\"display:none;\">\n",
              "        \n",
              "  <svg xmlns=\"http://www.w3.org/2000/svg\" height=\"24px\"viewBox=\"0 0 24 24\"\n",
              "       width=\"24px\">\n",
              "    <path d=\"M0 0h24v24H0V0z\" fill=\"none\"/>\n",
              "    <path d=\"M18.56 5.44l.94 2.06.94-2.06 2.06-.94-2.06-.94-.94-2.06-.94 2.06-2.06.94zm-11 1L8.5 8.5l.94-2.06 2.06-.94-2.06-.94L8.5 2.5l-.94 2.06-2.06.94zm10 10l.94 2.06.94-2.06 2.06-.94-2.06-.94-.94-2.06-.94 2.06-2.06.94z\"/><path d=\"M17.41 7.96l-1.37-1.37c-.4-.4-.92-.59-1.43-.59-.52 0-1.04.2-1.43.59L10.3 9.45l-7.72 7.72c-.78.78-.78 2.05 0 2.83L4 21.41c.39.39.9.59 1.41.59.51 0 1.02-.2 1.41-.59l7.78-7.78 2.81-2.81c.8-.78.8-2.07 0-2.86zM5.41 20L4 18.59l7.72-7.72 1.47 1.35L5.41 20z\"/>\n",
              "  </svg>\n",
              "      </button>\n",
              "      \n",
              "  <style>\n",
              "    .colab-df-container {\n",
              "      display:flex;\n",
              "      flex-wrap:wrap;\n",
              "      gap: 12px;\n",
              "    }\n",
              "\n",
              "    .colab-df-convert {\n",
              "      background-color: #E8F0FE;\n",
              "      border: none;\n",
              "      border-radius: 50%;\n",
              "      cursor: pointer;\n",
              "      display: none;\n",
              "      fill: #1967D2;\n",
              "      height: 32px;\n",
              "      padding: 0 0 0 0;\n",
              "      width: 32px;\n",
              "    }\n",
              "\n",
              "    .colab-df-convert:hover {\n",
              "      background-color: #E2EBFA;\n",
              "      box-shadow: 0px 1px 2px rgba(60, 64, 67, 0.3), 0px 1px 3px 1px rgba(60, 64, 67, 0.15);\n",
              "      fill: #174EA6;\n",
              "    }\n",
              "\n",
              "    [theme=dark] .colab-df-convert {\n",
              "      background-color: #3B4455;\n",
              "      fill: #D2E3FC;\n",
              "    }\n",
              "\n",
              "    [theme=dark] .colab-df-convert:hover {\n",
              "      background-color: #434B5C;\n",
              "      box-shadow: 0px 1px 3px 1px rgba(0, 0, 0, 0.15);\n",
              "      filter: drop-shadow(0px 1px 2px rgba(0, 0, 0, 0.3));\n",
              "      fill: #FFFFFF;\n",
              "    }\n",
              "  </style>\n",
              "\n",
              "      <script>\n",
              "        const buttonEl =\n",
              "          document.querySelector('#df-824e0431-b7e1-4411-a8e6-db3e612dc137 button.colab-df-convert');\n",
              "        buttonEl.style.display =\n",
              "          google.colab.kernel.accessAllowed ? 'block' : 'none';\n",
              "\n",
              "        async function convertToInteractive(key) {\n",
              "          const element = document.querySelector('#df-824e0431-b7e1-4411-a8e6-db3e612dc137');\n",
              "          const dataTable =\n",
              "            await google.colab.kernel.invokeFunction('convertToInteractive',\n",
              "                                                     [key], {});\n",
              "          if (!dataTable) return;\n",
              "\n",
              "          const docLinkHtml = 'Like what you see? Visit the ' +\n",
              "            '<a target=\"_blank\" href=https://colab.research.google.com/notebooks/data_table.ipynb>data table notebook</a>'\n",
              "            + ' to learn more about interactive tables.';\n",
              "          element.innerHTML = '';\n",
              "          dataTable['output_type'] = 'display_data';\n",
              "          await google.colab.output.renderOutput(dataTable, element);\n",
              "          const docLink = document.createElement('div');\n",
              "          docLink.innerHTML = docLinkHtml;\n",
              "          element.appendChild(docLink);\n",
              "        }\n",
              "      </script>\n",
              "    </div>\n",
              "  </div>\n",
              "  "
            ]
          },
          "metadata": {},
          "execution_count": 23
        }
      ],
      "source": [
        "from sklearn.preprocessing import StandardScaler\n",
        "numerical_features =  ['Open', 'High', 'Low']\n",
        "scaler = StandardScaler()\n",
        "scaler.fit(x_train[numerical_features])\n",
        "x_train[numerical_features] = scaler.transform(x_train.loc[:, numerical_features])\n",
        "x_train[numerical_features].head()"
      ]
    },
    {
      "cell_type": "markdown",
      "metadata": {
        "id": "JLhdypwEQtCO"
      },
      "source": [
        "Selanjutnya masuk ke tahap Model Development, dimana pada tahap ini menggunakan 3 jenis model algoritma seperti yang dicontohkan pada submodul study case pertama : predictive Analysis. Untuk melakukan analisis dari ketiga algoritma,  terlebih dahulu menyiapkan data frame."
      ]
    },
    {
      "cell_type": "code",
      "execution_count": null,
      "metadata": {
        "id": "Kq165nRUjGmn"
      },
      "outputs": [],
      "source": [
        "models = pd.DataFrame(index=['train_mse', 'test_mse'], \n",
        "                      columns=['KNN', 'RandomForest', 'Boosting'])"
      ]
    },
    {
      "cell_type": "markdown",
      "source": [
        "Dilanjutkan dengan melakukan training menggunakan algoritma KNN dari library sklearn.neighbors menggunakan nilai K = 10 dan metric Euclidean untuk mengukur jarak antara titik. Algoritma KNN menggunakan sistem 'kesamaan fitur' dalam memprediksi nilai dari setiap data yang baru. Sehingga, setiap data baru diberi nilai berdasarkan seberapa mirip titik tersebut dalam set pelatihan.KNN bekerja dengan membandingkan jarak satu sampel ke sampel pelatihan lain dengan memilih sejumlah k tetangga terdekat."
      ],
      "metadata": {
        "id": "gO2mSc-Yl5LL"
      }
    },
    {
      "cell_type": "code",
      "execution_count": null,
      "metadata": {
        "id": "mUU_4rUjjSCB"
      },
      "outputs": [],
      "source": [
        "from sklearn.neighbors import KNeighborsRegressor\n",
        "from sklearn.metrics import mean_squared_error\n",
        "\n",
        "knn = KNeighborsRegressor(n_neighbors=10)\n",
        "knn.fit(x_train, y_train)\n",
        " \n",
        "models.loc['train_mse','knn'] = mean_squared_error(y_pred = knn.predict(x_train), y_true=y_train)"
      ]
    },
    {
      "cell_type": "markdown",
      "source": [
        "Dilanjutkan dengan melakukan training menggunakan algoritma Random Forest dari library sklearn.ensemble dan memanggil fungsi RandomForestRegressor dengan beberapa nilai parameter. Parameter tersebut adalah n_estimator: jumlah trees (pohon), max_depth: kedalaman atau panjang pohon dalam membelah (splitting) untuk membagi setiap node ke dalam jumlah pengamatan yang diinginkan random_state: digunakan untuk mengontrol random number generator yang digunakan, n_jobs: jumlah job/pekerjaan yang digunakan secara paralel.Sedangkan n_jobs=-1 artinya semua proses berjalan secara paralel."
      ],
      "metadata": {
        "id": "l1ORMHGZnq92"
      }
    },
    {
      "cell_type": "code",
      "execution_count": null,
      "metadata": {
        "id": "xrfzlAzBjedd"
      },
      "outputs": [],
      "source": [
        "# Impor library yang dibutuhkan\n",
        "from sklearn.ensemble import RandomForestRegressor\n",
        " \n",
        "# buat model prediksi\n",
        "RF = RandomForestRegressor(n_estimators=50, max_depth=16, random_state=55, n_jobs=-1)\n",
        "RF.fit(x_train, y_train)\n",
        " \n",
        "models.loc['train_mse','RandomForest'] = mean_squared_error(y_pred=RF.predict(x_train), y_true=y_train)          "
      ]
    },
    {
      "cell_type": "markdown",
      "source": [
        "Dan algoritma yang ketiga adalah Boosting Algorithm yang dipanggil dari library sklearn.ensemble dengan fungsi AdaBoostRegressor yang terdiri dari 2 parameter yaitu learning_rate: bobot yang diterapkan pada setiap regressor di masing-masing proses iterasi boosting dan random_state: digunakan untuk mengontrol random number generator yang digunakan."
      ],
      "metadata": {
        "id": "GndfyWqfozHv"
      }
    },
    {
      "cell_type": "code",
      "execution_count": null,
      "metadata": {
        "id": "yteJDrTtjlmK"
      },
      "outputs": [],
      "source": [
        "from sklearn.ensemble import AdaBoostRegressor\n",
        " \n",
        "boosting = AdaBoostRegressor(learning_rate=0.05, random_state=55)                             \n",
        "boosting.fit(x_train, y_train)\n",
        "models.loc['train_mse','Boosting'] = mean_squared_error(y_pred=boosting.predict(x_train), y_true=y_train)"
      ]
    },
    {
      "cell_type": "markdown",
      "source": [
        "Selanjutnya untuk melakukan perhitungan pada nilai mae dari model yang telah ditraining maka perlu dilakukan scaling pada data test yang sudah displit sebelumnya. Hal ini dilakukan agar skala antara data trainin dan data test sama."
      ],
      "metadata": {
        "id": "fy5J5wSwpbEE"
      }
    },
    {
      "cell_type": "code",
      "execution_count": null,
      "metadata": {
        "id": "BvUOC9qHjuUE"
      },
      "outputs": [],
      "source": [
        "x_test.loc[:, numerical_features] = scaler.transform(x_test[numerical_features])"
      ]
    },
    {
      "cell_type": "markdown",
      "source": [
        "Kemudian masuk ke dalam tahap Evaluasi Model, pada tahap ini model akan diuji menggunakan data test yang sudah atur agar skalanya sama menggunakan metrik Mean Squarred Error (MSE)."
      ],
      "metadata": {
        "id": "l6fIu94bp8Ax"
      }
    },
    {
      "cell_type": "code",
      "execution_count": null,
      "metadata": {
        "colab": {
          "base_uri": "https://localhost:8080/",
          "height": 143
        },
        "id": "NHb0wGRSkla5",
        "outputId": "e00e5d84-2b44-43d1-aa1c-8dd250fc83f9"
      },
      "outputs": [
        {
          "output_type": "execute_result",
          "data": {
            "text/plain": [
              "                train         test\n",
              "KNN          4.951149     5.955461\n",
              "RF           1.148839     6.585508\n",
              "Boosting  3107.891823  3202.451689"
            ],
            "text/html": [
              "\n",
              "  <div id=\"df-fa4e79e1-25f0-4265-ab74-6387762d99a7\">\n",
              "    <div class=\"colab-df-container\">\n",
              "      <div>\n",
              "<style scoped>\n",
              "    .dataframe tbody tr th:only-of-type {\n",
              "        vertical-align: middle;\n",
              "    }\n",
              "\n",
              "    .dataframe tbody tr th {\n",
              "        vertical-align: top;\n",
              "    }\n",
              "\n",
              "    .dataframe thead th {\n",
              "        text-align: right;\n",
              "    }\n",
              "</style>\n",
              "<table border=\"1\" class=\"dataframe\">\n",
              "  <thead>\n",
              "    <tr style=\"text-align: right;\">\n",
              "      <th></th>\n",
              "      <th>train</th>\n",
              "      <th>test</th>\n",
              "    </tr>\n",
              "  </thead>\n",
              "  <tbody>\n",
              "    <tr>\n",
              "      <th>KNN</th>\n",
              "      <td>4.951149</td>\n",
              "      <td>5.955461</td>\n",
              "    </tr>\n",
              "    <tr>\n",
              "      <th>RF</th>\n",
              "      <td>1.148839</td>\n",
              "      <td>6.585508</td>\n",
              "    </tr>\n",
              "    <tr>\n",
              "      <th>Boosting</th>\n",
              "      <td>3107.891823</td>\n",
              "      <td>3202.451689</td>\n",
              "    </tr>\n",
              "  </tbody>\n",
              "</table>\n",
              "</div>\n",
              "      <button class=\"colab-df-convert\" onclick=\"convertToInteractive('df-fa4e79e1-25f0-4265-ab74-6387762d99a7')\"\n",
              "              title=\"Convert this dataframe to an interactive table.\"\n",
              "              style=\"display:none;\">\n",
              "        \n",
              "  <svg xmlns=\"http://www.w3.org/2000/svg\" height=\"24px\"viewBox=\"0 0 24 24\"\n",
              "       width=\"24px\">\n",
              "    <path d=\"M0 0h24v24H0V0z\" fill=\"none\"/>\n",
              "    <path d=\"M18.56 5.44l.94 2.06.94-2.06 2.06-.94-2.06-.94-.94-2.06-.94 2.06-2.06.94zm-11 1L8.5 8.5l.94-2.06 2.06-.94-2.06-.94L8.5 2.5l-.94 2.06-2.06.94zm10 10l.94 2.06.94-2.06 2.06-.94-2.06-.94-.94-2.06-.94 2.06-2.06.94z\"/><path d=\"M17.41 7.96l-1.37-1.37c-.4-.4-.92-.59-1.43-.59-.52 0-1.04.2-1.43.59L10.3 9.45l-7.72 7.72c-.78.78-.78 2.05 0 2.83L4 21.41c.39.39.9.59 1.41.59.51 0 1.02-.2 1.41-.59l7.78-7.78 2.81-2.81c.8-.78.8-2.07 0-2.86zM5.41 20L4 18.59l7.72-7.72 1.47 1.35L5.41 20z\"/>\n",
              "  </svg>\n",
              "      </button>\n",
              "      \n",
              "  <style>\n",
              "    .colab-df-container {\n",
              "      display:flex;\n",
              "      flex-wrap:wrap;\n",
              "      gap: 12px;\n",
              "    }\n",
              "\n",
              "    .colab-df-convert {\n",
              "      background-color: #E8F0FE;\n",
              "      border: none;\n",
              "      border-radius: 50%;\n",
              "      cursor: pointer;\n",
              "      display: none;\n",
              "      fill: #1967D2;\n",
              "      height: 32px;\n",
              "      padding: 0 0 0 0;\n",
              "      width: 32px;\n",
              "    }\n",
              "\n",
              "    .colab-df-convert:hover {\n",
              "      background-color: #E2EBFA;\n",
              "      box-shadow: 0px 1px 2px rgba(60, 64, 67, 0.3), 0px 1px 3px 1px rgba(60, 64, 67, 0.15);\n",
              "      fill: #174EA6;\n",
              "    }\n",
              "\n",
              "    [theme=dark] .colab-df-convert {\n",
              "      background-color: #3B4455;\n",
              "      fill: #D2E3FC;\n",
              "    }\n",
              "\n",
              "    [theme=dark] .colab-df-convert:hover {\n",
              "      background-color: #434B5C;\n",
              "      box-shadow: 0px 1px 3px 1px rgba(0, 0, 0, 0.15);\n",
              "      filter: drop-shadow(0px 1px 2px rgba(0, 0, 0, 0.3));\n",
              "      fill: #FFFFFF;\n",
              "    }\n",
              "  </style>\n",
              "\n",
              "      <script>\n",
              "        const buttonEl =\n",
              "          document.querySelector('#df-fa4e79e1-25f0-4265-ab74-6387762d99a7 button.colab-df-convert');\n",
              "        buttonEl.style.display =\n",
              "          google.colab.kernel.accessAllowed ? 'block' : 'none';\n",
              "\n",
              "        async function convertToInteractive(key) {\n",
              "          const element = document.querySelector('#df-fa4e79e1-25f0-4265-ab74-6387762d99a7');\n",
              "          const dataTable =\n",
              "            await google.colab.kernel.invokeFunction('convertToInteractive',\n",
              "                                                     [key], {});\n",
              "          if (!dataTable) return;\n",
              "\n",
              "          const docLinkHtml = 'Like what you see? Visit the ' +\n",
              "            '<a target=\"_blank\" href=https://colab.research.google.com/notebooks/data_table.ipynb>data table notebook</a>'\n",
              "            + ' to learn more about interactive tables.';\n",
              "          element.innerHTML = '';\n",
              "          dataTable['output_type'] = 'display_data';\n",
              "          await google.colab.output.renderOutput(dataTable, element);\n",
              "          const docLink = document.createElement('div');\n",
              "          docLink.innerHTML = docLinkHtml;\n",
              "          element.appendChild(docLink);\n",
              "        }\n",
              "      </script>\n",
              "    </div>\n",
              "  </div>\n",
              "  "
            ]
          },
          "metadata": {},
          "execution_count": 29
        }
      ],
      "source": [
        "# Buat variabel mse yang isinya adalah dataframe nilai mse data train dan test pada masing-masing algoritma\n",
        "mse = pd.DataFrame(columns=['train', 'test'], index=['KNN','RF','Boosting'])\n",
        " \n",
        "# Buat dictionary untuk setiap algoritma yang digunakan\n",
        "model_dict = {'KNN': knn, 'RF': RF, 'Boosting': boosting}\n",
        " \n",
        "# Hitung Mean Squared Error masing-masing algoritma pada data train dan test\n",
        "for name, model in model_dict.items():\n",
        "    mse.loc[name, 'train'] = mean_squared_error(y_true=y_train, y_pred=model.predict(x_train))/1e3 \n",
        "    mse.loc[name, 'test'] = mean_squared_error(y_true=y_test, y_pred=model.predict(x_test))/1e3\n",
        " \n",
        "# Panggil mse\n",
        "mse"
      ]
    },
    {
      "cell_type": "markdown",
      "source": [
        "Selanjutnya dilakukan plotting dari nilai mae evaluasi model ketiga model. Tetapi karena hasil dari model KKN dan RF yang relatif jauh lebih kecil jika dibandingkan dengan Boosting maka pada grafik tidak terlihat. Untuk menampilkan subplot dapat memanggil fungsi plt.subplots() seperti pada cell di bawah ini.  "
      ],
      "metadata": {
        "id": "WGXZr_NdqeOm"
      }
    },
    {
      "cell_type": "code",
      "execution_count": null,
      "metadata": {
        "colab": {
          "base_uri": "https://localhost:8080/",
          "height": 265
        },
        "id": "2ug_6S03k0GN",
        "outputId": "aebcb861-694c-421c-ac66-61d32a63d25b"
      },
      "outputs": [
        {
          "output_type": "display_data",
          "data": {
            "text/plain": [
              "<Figure size 432x288 with 1 Axes>"
            ],
            "image/png": "[encoded data removed]"
          },
          "metadata": {
            "needs_background": "light"
          }
        }
      ],
      "source": [
        "fig, ax = plt.subplots()\n",
        "mse.sort_values(by='test', ascending=False).plot(kind='barh', ax=ax, zorder=3)\n",
        "ax.grid(zorder=0)"
      ]
    },
    {
      "cell_type": "markdown",
      "source": [
        "Masih pada tahap Evaluasi Model, dilakukan prediksi pada model yang telah ditraining menggunakan 3 jenis algoritma. Prediksi dapat dilakukan dengan menggunakan code berikut dan didapatkan hasil seperti pada tabel di bawah. "
      ],
      "metadata": {
        "id": "38fYrovmrm_G"
      }
    },
    {
      "cell_type": "code",
      "execution_count": null,
      "metadata": {
        "colab": {
          "base_uri": "https://localhost:8080/",
          "height": 206
        },
        "id": "-NOac3jSlAhJ",
        "outputId": "0caa3095-25ea-4840-f491-95d9a8a0dd58"
      },
      "outputs": [
        {
          "output_type": "execute_result",
          "data": {
            "text/plain": [
              "         y_true  prediksi_KNN  prediksi_RF  prediksi_Boosting\n",
              "5108    8790.03        8781.0       8784.2             8182.9\n",
              "39759  60790.88       60619.7      60618.0            59500.6\n",
              "26419  32540.94       32403.0      32449.4            33044.6\n",
              "48930  29513.12       29550.4      29555.6            32988.5\n",
              "10276   8654.96        8648.1       8647.2             8182.9"
            ],
            "text/html": [
              "\n",
              "  <div id=\"df-10d17661-e47d-41db-bd63-4399f6dfbf6a\">\n",
              "    <div class=\"colab-df-container\">\n",
              "      <div>\n",
              "<style scoped>\n",
              "    .dataframe tbody tr th:only-of-type {\n",
              "        vertical-align: middle;\n",
              "    }\n",
              "\n",
              "    .dataframe tbody tr th {\n",
              "        vertical-align: top;\n",
              "    }\n",
              "\n",
              "    .dataframe thead th {\n",
              "        text-align: right;\n",
              "    }\n",
              "</style>\n",
              "<table border=\"1\" class=\"dataframe\">\n",
              "  <thead>\n",
              "    <tr style=\"text-align: right;\">\n",
              "      <th></th>\n",
              "      <th>y_true</th>\n",
              "      <th>prediksi_KNN</th>\n",
              "      <th>prediksi_RF</th>\n",
              "      <th>prediksi_Boosting</th>\n",
              "    </tr>\n",
              "  </thead>\n",
              "  <tbody>\n",
              "    <tr>\n",
              "      <th>5108</th>\n",
              "      <td>8790.03</td>\n",
              "      <td>8781.0</td>\n",
              "      <td>8784.2</td>\n",
              "      <td>8182.9</td>\n",
              "    </tr>\n",
              "    <tr>\n",
              "      <th>39759</th>\n",
              "      <td>60790.88</td>\n",
              "      <td>60619.7</td>\n",
              "      <td>60618.0</td>\n",
              "      <td>59500.6</td>\n",
              "    </tr>\n",
              "    <tr>\n",
              "      <th>26419</th>\n",
              "      <td>32540.94</td>\n",
              "      <td>32403.0</td>\n",
              "      <td>32449.4</td>\n",
              "      <td>33044.6</td>\n",
              "    </tr>\n",
              "    <tr>\n",
              "      <th>48930</th>\n",
              "      <td>29513.12</td>\n",
              "      <td>29550.4</td>\n",
              "      <td>29555.6</td>\n",
              "      <td>32988.5</td>\n",
              "    </tr>\n",
              "    <tr>\n",
              "      <th>10276</th>\n",
              "      <td>8654.96</td>\n",
              "      <td>8648.1</td>\n",
              "      <td>8647.2</td>\n",
              "      <td>8182.9</td>\n",
              "    </tr>\n",
              "  </tbody>\n",
              "</table>\n",
              "</div>\n",
              "      <button class=\"colab-df-convert\" onclick=\"convertToInteractive('df-10d17661-e47d-41db-bd63-4399f6dfbf6a')\"\n",
              "              title=\"Convert this dataframe to an interactive table.\"\n",
              "              style=\"display:none;\">\n",
              "        \n",
              "  <svg xmlns=\"http://www.w3.org/2000/svg\" height=\"24px\"viewBox=\"0 0 24 24\"\n",
              "       width=\"24px\">\n",
              "    <path d=\"M0 0h24v24H0V0z\" fill=\"none\"/>\n",
              "    <path d=\"M18.56 5.44l.94 2.06.94-2.06 2.06-.94-2.06-.94-.94-2.06-.94 2.06-2.06.94zm-11 1L8.5 8.5l.94-2.06 2.06-.94-2.06-.94L8.5 2.5l-.94 2.06-2.06.94zm10 10l.94 2.06.94-2.06 2.06-.94-2.06-.94-.94-2.06-.94 2.06-2.06.94z\"/><path d=\"M17.41 7.96l-1.37-1.37c-.4-.4-.92-.59-1.43-.59-.52 0-1.04.2-1.43.59L10.3 9.45l-7.72 7.72c-.78.78-.78 2.05 0 2.83L4 21.41c.39.39.9.59 1.41.59.51 0 1.02-.2 1.41-.59l7.78-7.78 2.81-2.81c.8-.78.8-2.07 0-2.86zM5.41 20L4 18.59l7.72-7.72 1.47 1.35L5.41 20z\"/>\n",
              "  </svg>\n",
              "      </button>\n",
              "      \n",
              "  <style>\n",
              "    .colab-df-container {\n",
              "      display:flex;\n",
              "      flex-wrap:wrap;\n",
              "      gap: 12px;\n",
              "    }\n",
              "\n",
              "    .colab-df-convert {\n",
              "      background-color: #E8F0FE;\n",
              "      border: none;\n",
              "      border-radius: 50%;\n",
              "      cursor: pointer;\n",
              "      display: none;\n",
              "      fill: #1967D2;\n",
              "      height: 32px;\n",
              "      padding: 0 0 0 0;\n",
              "      width: 32px;\n",
              "    }\n",
              "\n",
              "    .colab-df-convert:hover {\n",
              "      background-color: #E2EBFA;\n",
              "      box-shadow: 0px 1px 2px rgba(60, 64, 67, 0.3), 0px 1px 3px 1px rgba(60, 64, 67, 0.15);\n",
              "      fill: #174EA6;\n",
              "    }\n",
              "\n",
              "    [theme=dark] .colab-df-convert {\n",
              "      background-color: #3B4455;\n",
              "      fill: #D2E3FC;\n",
              "    }\n",
              "\n",
              "    [theme=dark] .colab-df-convert:hover {\n",
              "      background-color: #434B5C;\n",
              "      box-shadow: 0px 1px 3px 1px rgba(0, 0, 0, 0.15);\n",
              "      filter: drop-shadow(0px 1px 2px rgba(0, 0, 0, 0.3));\n",
              "      fill: #FFFFFF;\n",
              "    }\n",
              "  </style>\n",
              "\n",
              "      <script>\n",
              "        const buttonEl =\n",
              "          document.querySelector('#df-10d17661-e47d-41db-bd63-4399f6dfbf6a button.colab-df-convert');\n",
              "        buttonEl.style.display =\n",
              "          google.colab.kernel.accessAllowed ? 'block' : 'none';\n",
              "\n",
              "        async function convertToInteractive(key) {\n",
              "          const element = document.querySelector('#df-10d17661-e47d-41db-bd63-4399f6dfbf6a');\n",
              "          const dataTable =\n",
              "            await google.colab.kernel.invokeFunction('convertToInteractive',\n",
              "                                                     [key], {});\n",
              "          if (!dataTable) return;\n",
              "\n",
              "          const docLinkHtml = 'Like what you see? Visit the ' +\n",
              "            '<a target=\"_blank\" href=https://colab.research.google.com/notebooks/data_table.ipynb>data table notebook</a>'\n",
              "            + ' to learn more about interactive tables.';\n",
              "          element.innerHTML = '';\n",
              "          dataTable['output_type'] = 'display_data';\n",
              "          await google.colab.output.renderOutput(dataTable, element);\n",
              "          const docLink = document.createElement('div');\n",
              "          docLink.innerHTML = docLinkHtml;\n",
              "          element.appendChild(docLink);\n",
              "        }\n",
              "      </script>\n",
              "    </div>\n",
              "  </div>\n",
              "  "
            ]
          },
          "metadata": {},
          "execution_count": 31
        }
      ],
      "source": [
        "prediksi = x_test.iloc[:5].copy()\n",
        "pred_dict = {'y_true':y_test[:5]}\n",
        "for name, model in model_dict.items():\n",
        "    pred_dict['prediksi_'+name] = model.predict(prediksi).round(1)\n",
        " \n",
        "pd.DataFrame(pred_dict)"
      ]
    },
    {
      "cell_type": "markdown",
      "source": [
        "Setelah menggunakan 3 algoritma yaitu KNN, Boosting, dan Random Forest. Saya mencoba juga algoritma sequential menggunakan tensorflow untuk membuat model predictice analys Bitcoin Cryptocurrency.\n",
        "\n",
        "\n",
        "Hal pertama yang dilakukan adalah membuat model sequential yang terdiri dari beberapa layer yaitu Normalization, 2 hidden layer (2048 dan 1024), Dropout, dan 1 layer output yang akan menghasilkan label/target nilai 'Close' dari Bitcoin Cryptocurrency."
      ],
      "metadata": {
        "id": "RPSS9sQBsepl"
      }
    },
    {
      "cell_type": "code",
      "execution_count": null,
      "metadata": {
        "id": "I3L31klbpGLU"
      },
      "outputs": [],
      "source": [
        "import tensorflow as tf\n",
        "tf.random.set_seed(10)\n",
        "model = tf.keras.models.Sequential([\n",
        "      tf.keras.layers.Normalization(),\n",
        "      tf.keras.layers.Dense(2048, activation='relu'),\n",
        "      tf.keras.layers.Dropout(0.5),\n",
        "      tf.keras.layers.Dense(1024, activation='relu'),\n",
        "      tf.keras.layers.Dropout(0.3),\n",
        "      tf.keras.layers.Dense(1)\n",
        "])"
      ]
    },
    {
      "cell_type": "markdown",
      "source": [
        "Selanjutnya adalah mendeklarasikan optimizer yang digunakan, pada kali ini digunakan keras optimizer SGD. Stochastic Gradient Descent (SGD) merupakan metode iteratif untuk mengoptimalkan fungsi objektif dengan sifat kehalusan yang sesuai dalam menangani noise pada model.\n",
        "\n",
        "Setelah mendeklarasikan optimizer dilanjutkan melakukan compile pada model menggunakan parameter metrik mae, loss mean_squared_logarithmic_error, dan optimizer."
      ],
      "metadata": {
        "id": "EL1Odd_xtjtc"
      }
    },
    {
      "cell_type": "code",
      "execution_count": null,
      "metadata": {
        "id": "UhEEcaGmqVtk"
      },
      "outputs": [],
      "source": [
        "optimizer = tf.keras.optimizers.SGD(learning_rate=1.000e-4, momentum=0.9)\n",
        "model.compile(optimizer=optimizer, loss='mean_squared_logarithmic_error',metrics=['mae'])"
      ]
    },
    {
      "cell_type": "markdown",
      "source": [
        "Dikarenakan menggunakan metrik mae maka dibutuhkan nilai minimum mae yang harus kurang dari 10% dari label/target menggunakan perhitungan seperti berikut. Nilai minimum mae dibutuhkan sebagai acuan bawha model sudah memiliki akurasi yang baik apabila nilai mae pada saat di training sudah berada dibawah 10%."
      ],
      "metadata": {
        "id": "K9s7W39tvMpe"
      }
    },
    {
      "cell_type": "code",
      "execution_count": null,
      "metadata": {
        "colab": {
          "base_uri": "https://localhost:8080/"
        },
        "id": "TQ1TELuQqejG",
        "outputId": "9a4c9d29-6e77-453d-e130-869d33e01cfc"
      },
      "outputs": [
        {
          "output_type": "execute_result",
          "data": {
            "text/plain": [
              "6381.309000000001"
            ]
          },
          "metadata": {},
          "execution_count": 34
        }
      ],
      "source": [
        "minMAE = (data['Close'].max() - data['Close'].min()) * 0.1\n",
        "minMAE"
      ]
    },
    {
      "cell_type": "markdown",
      "source": [
        "Kemudian dideklarasikan fungsi Callback yang berfungsi untuk memberhentikan proses training apabila nilai mae yang diperoleh pada saat training sudah berada dibawah nilai minMAE yaitu mae < 10% skala data."
      ],
      "metadata": {
        "id": "dvp4IMC0wPaw"
      }
    },
    {
      "cell_type": "code",
      "execution_count": null,
      "metadata": {
        "id": "1I5PgJLt--V9"
      },
      "outputs": [],
      "source": [
        "class TestCallback(tf.keras.callbacks.Callback): \n",
        "    def on_epoch_end(self, epoch, logs={}): \n",
        "        if(logs.get('mae') < minMAE):\n",
        "            print(\"\\nmae < 10%!\") \n",
        "            self.model.stop_training = True \n",
        "callbacks = TestCallback()"
      ]
    },
    {
      "cell_type": "markdown",
      "source": [
        "Selanjutnya untuk mendapatkan informasi mengenai arsitektur model yang telah dibuat dapat memanggil fungsi .summary(). dari model diperoleh total 2.107.400 parameter dan 2.107.393 yang dilatih."
      ],
      "metadata": {
        "id": "51uv61BnwkWu"
      }
    },
    {
      "cell_type": "code",
      "execution_count": null,
      "metadata": {
        "colab": {
          "base_uri": "https://localhost:8080/"
        },
        "id": "ksyA04_Dq6VS",
        "outputId": "1908f6f6-208e-4d58-aee8-4a016ca9122b"
      },
      "outputs": [
        {
          "output_type": "stream",
          "name": "stdout",
          "text": [
            "Model: \"sequential\"\n",
            "_________________________________________________________________\n",
            " Layer (type)                Output Shape              Param #   \n",
            "=================================================================\n",
            " normalization (Normalizatio  (None, 3)                7         \n",
            " n)                                                              \n",
            "                                                                 \n",
            " dense (Dense)               (None, 2048)              8192      \n",
            "                                                                 \n",
            " dropout (Dropout)           (None, 2048)              0         \n",
            "                                                                 \n",
            " dense_1 (Dense)             (None, 1024)              2098176   \n",
            "                                                                 \n",
            " dropout_1 (Dropout)         (None, 1024)              0         \n",
            "                                                                 \n",
            " dense_2 (Dense)             (None, 1)                 1025      \n",
            "                                                                 \n",
            "=================================================================\n",
            "Total params: 2,107,400\n",
            "Trainable params: 2,107,393\n",
            "Non-trainable params: 7\n",
            "_________________________________________________________________\n"
          ]
        }
      ],
      "source": [
        "model.summary()"
      ]
    },
    {
      "cell_type": "markdown",
      "source": [
        "Selanjutnya melatih model Sequential yang sudah dibuat dengan memanggil fungsi  .fit dari model yang berisikan parameter atribut train dan label/target train yang sudah displit sebelumnya. Kemudian model dilatih dengan epochs sebanyak 1000. Tetapi dikarenakan terdapat deklarasi parameter fungsi callbacks yang sudah dibuat sebelumnya model dapat berhenti jika sudah mencapai ketentuan yang telah diterapkan pada fungsi callbacks."
      ],
      "metadata": {
        "id": "vvnJXmSgxEXv"
      }
    },
    {
      "cell_type": "code",
      "execution_count": null,
      "metadata": {
        "colab": {
          "base_uri": "https://localhost:8080/"
        },
        "id": "cWd9UBaCRlJD",
        "outputId": "4cf7df56-0e61-4738-d24f-8d1ba291d2f8"
      },
      "outputs": [
        {
          "output_type": "stream",
          "name": "stdout",
          "text": [
            "Epoch 1/1000\n",
            "1406/1406 [==============================] - 35s 25ms/step - loss: 39.4566 - mae: 27375.1719\n",
            "Epoch 2/1000\n",
            "1406/1406 [==============================] - 33s 23ms/step - loss: 20.1551 - mae: 27175.3145\n",
            "Epoch 3/1000\n",
            "1406/1406 [==============================] - 34s 24ms/step - loss: 14.8953 - mae: 26945.7715\n",
            "Epoch 4/1000\n",
            "1406/1406 [==============================] - 33s 23ms/step - loss: 12.0261 - mae: 26705.9316\n",
            "Epoch 5/1000\n",
            "1406/1406 [==============================] - 33s 23ms/step - loss: 10.1430 - mae: 26460.9492\n",
            "Epoch 6/1000\n",
            "1406/1406 [==============================] - 34s 24ms/step - loss: 8.7955 - mae: 26215.2656\n",
            "Epoch 7/1000\n",
            "1406/1406 [==============================] - 33s 23ms/step - loss: 7.7662 - mae: 25969.5000\n",
            "Epoch 8/1000\n",
            "1406/1406 [==============================] - 33s 23ms/step - loss: 6.9548 - mae: 25725.0293\n",
            "Epoch 9/1000\n",
            "1406/1406 [==============================] - 33s 23ms/step - loss: 6.2938 - mae: 25482.4141\n",
            "Epoch 10/1000\n",
            "1406/1406 [==============================] - 33s 24ms/step - loss: 5.7438 - mae: 25242.0781\n",
            "Epoch 11/1000\n",
            "1406/1406 [==============================] - 35s 25ms/step - loss: 5.2781 - mae: 25003.6152\n",
            "Epoch 12/1000\n",
            "1406/1406 [==============================] - 34s 24ms/step - loss: 4.8772 - mae: 24767.9961\n",
            "Epoch 13/1000\n",
            "1406/1406 [==============================] - 34s 24ms/step - loss: 4.5280 - mae: 24534.4434\n",
            "Epoch 14/1000\n",
            "1406/1406 [==============================] - 34s 24ms/step - loss: 4.2243 - mae: 24306.1035\n",
            "Epoch 15/1000\n",
            "1406/1406 [==============================] - 34s 24ms/step - loss: 3.9521 - mae: 24078.0645\n",
            "Epoch 16/1000\n",
            "1406/1406 [==============================] - 36s 26ms/step - loss: 3.7116 - mae: 23855.0410\n",
            "Epoch 17/1000\n",
            "1406/1406 [==============================] - 38s 27ms/step - loss: 3.4940 - mae: 23631.3242\n",
            "Epoch 18/1000\n",
            "1406/1406 [==============================] - 39s 28ms/step - loss: 3.3002 - mae: 23414.7441\n",
            "Epoch 19/1000\n",
            "1406/1406 [==============================] - 36s 25ms/step - loss: 3.1249 - mae: 23201.8086\n",
            "Epoch 20/1000\n",
            "1406/1406 [==============================] - 35s 25ms/step - loss: 2.9625 - mae: 22987.6367\n",
            "Epoch 21/1000\n",
            "1406/1406 [==============================] - 36s 25ms/step - loss: 2.8158 - mae: 22779.8242\n",
            "Epoch 22/1000\n",
            "1406/1406 [==============================] - 34s 24ms/step - loss: 2.6804 - mae: 22573.3828\n",
            "Epoch 23/1000\n",
            "1406/1406 [==============================] - 34s 24ms/step - loss: 2.5538 - mae: 22366.5781\n",
            "Epoch 24/1000\n",
            "1406/1406 [==============================] - 35s 25ms/step - loss: 2.4419 - mae: 22169.7812\n",
            "Epoch 25/1000\n",
            "1406/1406 [==============================] - 33s 24ms/step - loss: 2.3334 - mae: 21969.4102\n",
            "Epoch 26/1000\n",
            "1406/1406 [==============================] - 33s 24ms/step - loss: 2.2332 - mae: 21771.7812\n",
            "Epoch 27/1000\n",
            "1406/1406 [==============================] - 33s 24ms/step - loss: 2.1418 - mae: 21580.8242\n",
            "Epoch 28/1000\n",
            "1406/1406 [==============================] - 33s 24ms/step - loss: 2.0549 - mae: 21391.7715\n",
            "Epoch 29/1000\n",
            "1406/1406 [==============================] - 33s 24ms/step - loss: 1.9761 - mae: 21205.4355\n",
            "Epoch 30/1000\n",
            "1406/1406 [==============================] - 33s 24ms/step - loss: 1.8998 - mae: 21021.5020\n",
            "Epoch 31/1000\n",
            "1406/1406 [==============================] - 33s 24ms/step - loss: 1.8288 - mae: 20841.6152\n",
            "Epoch 32/1000\n",
            "1406/1406 [==============================] - 33s 24ms/step - loss: 1.7624 - mae: 20661.6660\n",
            "Epoch 33/1000\n",
            "1406/1406 [==============================] - 33s 24ms/step - loss: 1.7006 - mae: 20485.3301\n",
            "Epoch 34/1000\n",
            "1406/1406 [==============================] - 33s 23ms/step - loss: 1.6408 - mae: 20311.0137\n",
            "Epoch 35/1000\n",
            "1406/1406 [==============================] - 33s 24ms/step - loss: 1.5859 - mae: 20143.9023\n",
            "Epoch 36/1000\n",
            "1406/1406 [==============================] - 33s 23ms/step - loss: 1.5313 - mae: 19969.5195\n",
            "Epoch 37/1000\n",
            "1406/1406 [==============================] - 33s 24ms/step - loss: 1.4835 - mae: 19813.4844\n",
            "Epoch 38/1000\n",
            "1406/1406 [==============================] - 36s 26ms/step - loss: 1.4325 - mae: 19637.1348\n",
            "Epoch 39/1000\n",
            "1406/1406 [==============================] - 33s 24ms/step - loss: 1.3884 - mae: 19483.1641\n",
            "Epoch 40/1000\n",
            "1406/1406 [==============================] - 37s 26ms/step - loss: 1.3468 - mae: 19331.9941\n",
            "Epoch 41/1000\n",
            "1406/1406 [==============================] - 33s 23ms/step - loss: 1.3063 - mae: 19180.0254\n",
            "Epoch 42/1000\n",
            "1406/1406 [==============================] - 35s 25ms/step - loss: 1.2652 - mae: 19018.4785\n",
            "Epoch 43/1000\n",
            "1406/1406 [==============================] - 33s 24ms/step - loss: 1.2303 - mae: 18883.2031\n",
            "Epoch 44/1000\n",
            "1406/1406 [==============================] - 34s 24ms/step - loss: 1.1957 - mae: 18737.2148\n",
            "Epoch 45/1000\n",
            "1406/1406 [==============================] - 34s 24ms/step - loss: 1.1616 - mae: 18592.6836\n",
            "Epoch 46/1000\n",
            "1406/1406 [==============================] - 34s 24ms/step - loss: 1.1298 - mae: 18456.7617\n",
            "Epoch 47/1000\n",
            "1406/1406 [==============================] - 34s 24ms/step - loss: 1.0989 - mae: 18320.2891\n",
            "Epoch 48/1000\n",
            "1406/1406 [==============================] - 34s 24ms/step - loss: 1.0704 - mae: 18189.6660\n",
            "Epoch 49/1000\n",
            "1406/1406 [==============================] - 34s 24ms/step - loss: 1.0411 - mae: 18054.0352\n",
            "Epoch 50/1000\n",
            "1406/1406 [==============================] - 34s 24ms/step - loss: 1.0148 - mae: 17924.1445\n",
            "Epoch 51/1000\n",
            "1406/1406 [==============================] - 34s 24ms/step - loss: 0.9891 - mae: 17798.3691\n",
            "Epoch 52/1000\n",
            "1406/1406 [==============================] - 34s 24ms/step - loss: 0.9633 - mae: 17672.0801\n",
            "Epoch 53/1000\n",
            "1406/1406 [==============================] - 35s 25ms/step - loss: 0.9402 - mae: 17547.1738\n",
            "Epoch 54/1000\n",
            "1406/1406 [==============================] - 39s 28ms/step - loss: 0.9177 - mae: 17430.6035\n",
            "Epoch 55/1000\n",
            "1406/1406 [==============================] - 34s 24ms/step - loss: 0.8963 - mae: 17316.4141\n",
            "Epoch 56/1000\n",
            "1406/1406 [==============================] - 34s 24ms/step - loss: 0.8742 - mae: 17191.2852\n",
            "Epoch 57/1000\n",
            "1406/1406 [==============================] - 35s 25ms/step - loss: 0.8540 - mae: 17077.5137\n",
            "Epoch 58/1000\n",
            "1406/1406 [==============================] - 34s 24ms/step - loss: 0.8358 - mae: 16970.5098\n",
            "Epoch 59/1000\n",
            "1406/1406 [==============================] - 36s 26ms/step - loss: 0.8142 - mae: 16843.1387\n",
            "Epoch 60/1000\n",
            "1406/1406 [==============================] - 34s 24ms/step - loss: 0.7972 - mae: 16740.7402\n",
            "Epoch 61/1000\n",
            "1406/1406 [==============================] - 34s 24ms/step - loss: 0.7801 - mae: 16633.9629\n",
            "Epoch 62/1000\n",
            "1406/1406 [==============================] - 34s 24ms/step - loss: 0.7635 - mae: 16527.4980\n",
            "Epoch 63/1000\n",
            "1406/1406 [==============================] - 35s 25ms/step - loss: 0.7461 - mae: 16420.3281\n",
            "Epoch 64/1000\n",
            "1406/1406 [==============================] - 34s 24ms/step - loss: 0.7314 - mae: 16318.5781\n",
            "Epoch 65/1000\n",
            "1406/1406 [==============================] - 34s 24ms/step - loss: 0.7155 - mae: 16213.2568\n",
            "Epoch 66/1000\n",
            "1406/1406 [==============================] - 34s 24ms/step - loss: 0.7010 - mae: 16115.3467\n",
            "Epoch 67/1000\n",
            "1406/1406 [==============================] - 47s 34ms/step - loss: 0.6861 - mae: 16007.0205\n",
            "Epoch 68/1000\n",
            "1406/1406 [==============================] - 38s 27ms/step - loss: 0.6723 - mae: 15910.6016\n",
            "Epoch 69/1000\n",
            "1406/1406 [==============================] - 34s 24ms/step - loss: 0.6586 - mae: 15807.7480\n",
            "Epoch 70/1000\n",
            "1406/1406 [==============================] - 40s 28ms/step - loss: 0.6464 - mae: 15720.5498\n",
            "Epoch 71/1000\n",
            "1406/1406 [==============================] - 34s 24ms/step - loss: 0.6336 - mae: 15622.4219\n",
            "Epoch 72/1000\n",
            "1406/1406 [==============================] - 34s 24ms/step - loss: 0.6220 - mae: 15534.1699\n",
            "Epoch 73/1000\n",
            "1406/1406 [==============================] - 34s 24ms/step - loss: 0.6098 - mae: 15438.8672\n",
            "Epoch 74/1000\n",
            "1406/1406 [==============================] - 34s 24ms/step - loss: 0.5981 - mae: 15346.4795\n",
            "Epoch 75/1000\n",
            "1406/1406 [==============================] - 36s 26ms/step - loss: 0.5872 - mae: 15259.2334\n",
            "Epoch 76/1000\n",
            "1406/1406 [==============================] - 34s 24ms/step - loss: 0.5769 - mae: 15172.6338\n",
            "Epoch 77/1000\n",
            "1406/1406 [==============================] - 34s 24ms/step - loss: 0.5652 - mae: 15072.8193\n",
            "Epoch 78/1000\n",
            "1406/1406 [==============================] - 35s 25ms/step - loss: 0.5554 - mae: 14990.1367\n",
            "Epoch 79/1000\n",
            "1406/1406 [==============================] - 34s 24ms/step - loss: 0.5458 - mae: 14905.6650\n",
            "Epoch 80/1000\n",
            "1406/1406 [==============================] - 35s 25ms/step - loss: 0.5365 - mae: 14824.4062\n",
            "Epoch 81/1000\n",
            "1406/1406 [==============================] - 34s 24ms/step - loss: 0.5268 - mae: 14739.1504\n",
            "Epoch 82/1000\n",
            "1406/1406 [==============================] - 38s 27ms/step - loss: 0.5183 - mae: 14662.1748\n",
            "Epoch 83/1000\n",
            "1406/1406 [==============================] - 34s 24ms/step - loss: 0.5091 - mae: 14576.4004\n",
            "Epoch 84/1000\n",
            "1406/1406 [==============================] - 36s 26ms/step - loss: 0.5010 - mae: 14502.2158\n",
            "Epoch 85/1000\n",
            "1406/1406 [==============================] - 38s 27ms/step - loss: 0.4920 - mae: 14408.5781\n",
            "Epoch 86/1000\n",
            "1406/1406 [==============================] - 34s 24ms/step - loss: 0.4841 - mae: 14334.8330\n",
            "Epoch 87/1000\n",
            "1406/1406 [==============================] - 34s 24ms/step - loss: 0.4759 - mae: 14256.2393\n",
            "Epoch 88/1000\n",
            "1406/1406 [==============================] - 38s 27ms/step - loss: 0.4690 - mae: 14180.9873\n",
            "Epoch 89/1000\n",
            "1406/1406 [==============================] - 34s 24ms/step - loss: 0.4619 - mae: 14112.0410\n",
            "Epoch 90/1000\n",
            "1406/1406 [==============================] - 34s 24ms/step - loss: 0.4532 - mae: 14022.6787\n",
            "Epoch 91/1000\n",
            "1406/1406 [==============================] - 34s 24ms/step - loss: 0.4465 - mae: 13950.7080\n",
            "Epoch 92/1000\n",
            "1406/1406 [==============================] - 34s 24ms/step - loss: 0.4401 - mae: 13882.1426\n",
            "Epoch 93/1000\n",
            "1406/1406 [==============================] - 34s 24ms/step - loss: 0.4332 - mae: 13803.0830\n",
            "Epoch 94/1000\n",
            "1406/1406 [==============================] - 34s 24ms/step - loss: 0.4263 - mae: 13728.8076\n",
            "Epoch 95/1000\n",
            "1406/1406 [==============================] - 34s 24ms/step - loss: 0.4202 - mae: 13663.2676\n",
            "Epoch 96/1000\n",
            "1406/1406 [==============================] - 34s 24ms/step - loss: 0.4136 - mae: 13588.8652\n",
            "Epoch 97/1000\n",
            "1406/1406 [==============================] - 38s 27ms/step - loss: 0.4076 - mae: 13513.3301\n",
            "Epoch 98/1000\n",
            "1406/1406 [==============================] - 37s 26ms/step - loss: 0.4016 - mae: 13449.8965\n",
            "Epoch 99/1000\n",
            "1406/1406 [==============================] - 34s 24ms/step - loss: 0.3960 - mae: 13378.8877\n",
            "Epoch 100/1000\n",
            "1406/1406 [==============================] - 34s 24ms/step - loss: 0.3906 - mae: 13308.2559\n",
            "Epoch 101/1000\n",
            "1406/1406 [==============================] - 34s 24ms/step - loss: 0.3852 - mae: 13246.0420\n",
            "Epoch 102/1000\n",
            "1406/1406 [==============================] - 34s 24ms/step - loss: 0.3795 - mae: 13172.9414\n",
            "Epoch 103/1000\n",
            "1406/1406 [==============================] - 36s 26ms/step - loss: 0.3739 - mae: 13100.3574\n",
            "Epoch 104/1000\n",
            "1406/1406 [==============================] - 34s 24ms/step - loss: 0.3684 - mae: 13027.7148\n",
            "Epoch 105/1000\n",
            "1406/1406 [==============================] - 34s 24ms/step - loss: 0.3631 - mae: 12963.0439\n",
            "Epoch 106/1000\n",
            "1406/1406 [==============================] - 34s 24ms/step - loss: 0.3589 - mae: 12904.3203\n",
            "Epoch 107/1000\n",
            "1406/1406 [==============================] - 35s 25ms/step - loss: 0.3537 - mae: 12837.7588\n",
            "Epoch 108/1000\n",
            "1406/1406 [==============================] - 34s 24ms/step - loss: 0.3487 - mae: 12769.0977\n",
            "Epoch 109/1000\n",
            "1406/1406 [==============================] - 34s 24ms/step - loss: 0.3445 - mae: 12710.5020\n",
            "Epoch 110/1000\n",
            "1406/1406 [==============================] - 34s 24ms/step - loss: 0.3404 - mae: 12651.0059\n",
            "Epoch 111/1000\n",
            "1406/1406 [==============================] - 34s 24ms/step - loss: 0.3353 - mae: 12579.7891\n",
            "Epoch 112/1000\n",
            "1406/1406 [==============================] - 34s 24ms/step - loss: 0.3305 - mae: 12505.2461\n",
            "Epoch 113/1000\n",
            "1406/1406 [==============================] - 34s 24ms/step - loss: 0.3271 - mae: 12454.6025\n",
            "Epoch 114/1000\n",
            "1406/1406 [==============================] - 34s 24ms/step - loss: 0.3227 - mae: 12388.5752\n",
            "Epoch 115/1000\n",
            "1406/1406 [==============================] - 34s 24ms/step - loss: 0.3181 - mae: 12323.5557\n",
            "Epoch 116/1000\n",
            "1406/1406 [==============================] - 37s 26ms/step - loss: 0.3144 - mae: 12267.2373\n",
            "Epoch 117/1000\n",
            "1406/1406 [==============================] - 34s 24ms/step - loss: 0.3112 - mae: 12213.6543\n",
            "Epoch 118/1000\n",
            "1406/1406 [==============================] - 34s 24ms/step - loss: 0.3071 - mae: 12150.3037\n",
            "Epoch 119/1000\n",
            "1406/1406 [==============================] - 34s 24ms/step - loss: 0.3025 - mae: 12077.1484\n",
            "Epoch 120/1000\n",
            "1406/1406 [==============================] - 35s 25ms/step - loss: 0.2985 - mae: 12007.1182\n",
            "Epoch 121/1000\n",
            "1406/1406 [==============================] - 35s 25ms/step - loss: 0.2962 - mae: 11975.5459\n",
            "Epoch 122/1000\n",
            "1406/1406 [==============================] - 34s 24ms/step - loss: 0.2923 - mae: 11909.6924\n",
            "Epoch 123/1000\n",
            "1406/1406 [==============================] - 34s 24ms/step - loss: 0.2885 - mae: 11841.7949\n",
            "Epoch 124/1000\n",
            "1406/1406 [==============================] - 34s 24ms/step - loss: 0.2847 - mae: 11784.4824\n",
            "Epoch 125/1000\n",
            "1406/1406 [==============================] - 34s 24ms/step - loss: 0.2814 - mae: 11724.4912\n",
            "Epoch 126/1000\n",
            "1406/1406 [==============================] - 34s 24ms/step - loss: 0.2787 - mae: 11677.3184\n",
            "Epoch 127/1000\n",
            "1406/1406 [==============================] - 35s 25ms/step - loss: 0.2754 - mae: 11624.0869\n",
            "Epoch 128/1000\n",
            "1406/1406 [==============================] - 34s 25ms/step - loss: 0.2718 - mae: 11556.2891\n",
            "Epoch 129/1000\n",
            "1406/1406 [==============================] - 34s 24ms/step - loss: 0.2687 - mae: 11503.0479\n",
            "Epoch 130/1000\n",
            "1406/1406 [==============================] - 34s 24ms/step - loss: 0.2661 - mae: 11450.8008\n",
            "Epoch 131/1000\n",
            "1406/1406 [==============================] - 34s 24ms/step - loss: 0.2627 - mae: 11389.3320\n",
            "Epoch 132/1000\n",
            "1406/1406 [==============================] - 34s 24ms/step - loss: 0.2601 - mae: 11337.0039\n",
            "Epoch 133/1000\n",
            "1406/1406 [==============================] - 38s 27ms/step - loss: 0.2572 - mae: 11281.4814\n",
            "Epoch 134/1000\n",
            "1406/1406 [==============================] - 34s 24ms/step - loss: 0.2537 - mae: 11219.1494\n",
            "Epoch 135/1000\n",
            "1406/1406 [==============================] - 34s 24ms/step - loss: 0.2514 - mae: 11167.8662\n",
            "Epoch 136/1000\n",
            "1406/1406 [==============================] - 34s 25ms/step - loss: 0.2487 - mae: 11113.6553\n",
            "Epoch 137/1000\n",
            "1406/1406 [==============================] - 34s 25ms/step - loss: 0.2461 - mae: 11063.4326\n",
            "Epoch 138/1000\n",
            "1406/1406 [==============================] - 34s 24ms/step - loss: 0.2434 - mae: 11003.8301\n",
            "Epoch 139/1000\n",
            "1406/1406 [==============================] - 34s 24ms/step - loss: 0.2412 - mae: 10960.4248\n",
            "Epoch 140/1000\n",
            "1406/1406 [==============================] - 36s 26ms/step - loss: 0.2380 - mae: 10900.5781\n",
            "Epoch 141/1000\n",
            "1406/1406 [==============================] - 34s 24ms/step - loss: 0.2360 - mae: 10850.9648\n",
            "Epoch 142/1000\n",
            "1406/1406 [==============================] - 35s 25ms/step - loss: 0.2341 - mae: 10806.3223\n",
            "Epoch 143/1000\n",
            "1406/1406 [==============================] - 34s 24ms/step - loss: 0.2310 - mae: 10744.3135\n",
            "Epoch 144/1000\n",
            "1406/1406 [==============================] - 35s 25ms/step - loss: 0.2282 - mae: 10690.5957\n",
            "Epoch 145/1000\n",
            "1406/1406 [==============================] - 35s 25ms/step - loss: 0.2259 - mae: 10635.4502\n",
            "Epoch 146/1000\n",
            "1406/1406 [==============================] - 36s 26ms/step - loss: 0.2234 - mae: 10585.3369\n",
            "Epoch 147/1000\n",
            "1406/1406 [==============================] - 35s 25ms/step - loss: 0.2209 - mae: 10530.0498\n",
            "Epoch 148/1000\n",
            "1406/1406 [==============================] - 34s 24ms/step - loss: 0.2188 - mae: 10474.1777\n",
            "Epoch 149/1000\n",
            "1406/1406 [==============================] - 34s 24ms/step - loss: 0.2166 - mae: 10427.2871\n",
            "Epoch 150/1000\n",
            "1406/1406 [==============================] - 35s 25ms/step - loss: 0.2147 - mae: 10379.0996\n",
            "Epoch 151/1000\n",
            "1406/1406 [==============================] - 35s 25ms/step - loss: 0.2125 - mae: 10338.2373\n",
            "Epoch 152/1000\n",
            "1406/1406 [==============================] - 35s 25ms/step - loss: 0.2097 - mae: 10270.8213\n",
            "Epoch 153/1000\n",
            "1406/1406 [==============================] - 34s 24ms/step - loss: 0.2083 - mae: 10230.3301\n",
            "Epoch 154/1000\n",
            "1406/1406 [==============================] - 35s 25ms/step - loss: 0.2066 - mae: 10188.8750\n",
            "Epoch 155/1000\n",
            "1406/1406 [==============================] - 34s 24ms/step - loss: 0.2039 - mae: 10128.9307\n",
            "Epoch 156/1000\n",
            "1406/1406 [==============================] - 36s 26ms/step - loss: 0.2027 - mae: 10094.1992\n",
            "Epoch 157/1000\n",
            "1406/1406 [==============================] - 34s 24ms/step - loss: 0.2009 - mae: 10056.1934\n",
            "Epoch 158/1000\n",
            "1406/1406 [==============================] - 34s 24ms/step - loss: 0.1986 - mae: 9987.5439\n",
            "Epoch 159/1000\n",
            "1406/1406 [==============================] - 36s 26ms/step - loss: 0.1967 - mae: 9946.9395\n",
            "Epoch 160/1000\n",
            "1406/1406 [==============================] - 34s 24ms/step - loss: 0.1950 - mae: 9902.0586\n",
            "Epoch 161/1000\n",
            "1406/1406 [==============================] - 34s 24ms/step - loss: 0.1928 - mae: 9845.4248\n",
            "Epoch 162/1000\n",
            "1406/1406 [==============================] - 36s 25ms/step - loss: 0.1907 - mae: 9786.3145\n",
            "Epoch 163/1000\n",
            "1406/1406 [==============================] - 36s 26ms/step - loss: 0.1894 - mae: 9764.9951\n",
            "Epoch 164/1000\n",
            "1406/1406 [==============================] - 34s 24ms/step - loss: 0.1875 - mae: 9701.9189\n",
            "Epoch 165/1000\n",
            "1406/1406 [==============================] - 34s 24ms/step - loss: 0.1858 - mae: 9657.6621\n",
            "Epoch 166/1000\n",
            "1406/1406 [==============================] - 34s 24ms/step - loss: 0.1840 - mae: 9612.9502\n",
            "Epoch 167/1000\n",
            "1406/1406 [==============================] - 37s 26ms/step - loss: 0.1826 - mae: 9561.7803\n",
            "Epoch 168/1000\n",
            "1406/1406 [==============================] - 34s 24ms/step - loss: 0.1810 - mae: 9527.0527\n",
            "Epoch 169/1000\n",
            "1406/1406 [==============================] - 36s 25ms/step - loss: 0.1793 - mae: 9479.5420\n",
            "Epoch 170/1000\n",
            "1406/1406 [==============================] - 36s 26ms/step - loss: 0.1774 - mae: 9430.7793\n",
            "Epoch 171/1000\n",
            "1406/1406 [==============================] - 36s 26ms/step - loss: 0.1760 - mae: 9379.3545\n",
            "Epoch 172/1000\n",
            "1406/1406 [==============================] - 39s 28ms/step - loss: 0.1746 - mae: 9348.1611\n",
            "Epoch 173/1000\n",
            "1406/1406 [==============================] - 36s 25ms/step - loss: 0.1733 - mae: 9304.3994\n",
            "Epoch 174/1000\n",
            "1406/1406 [==============================] - 36s 25ms/step - loss: 0.1712 - mae: 9250.8682\n",
            "Epoch 175/1000\n",
            "1406/1406 [==============================] - 36s 25ms/step - loss: 0.1701 - mae: 9216.0166\n",
            "Epoch 176/1000\n",
            "1406/1406 [==============================] - 35s 25ms/step - loss: 0.1687 - mae: 9171.8330\n",
            "Epoch 177/1000\n",
            "1406/1406 [==============================] - 35s 25ms/step - loss: 0.1668 - mae: 9128.4668\n",
            "Epoch 178/1000\n",
            "1406/1406 [==============================] - 35s 25ms/step - loss: 0.1661 - mae: 9089.7822\n",
            "Epoch 179/1000\n",
            "1406/1406 [==============================] - 34s 24ms/step - loss: 0.1637 - mae: 9023.4678\n",
            "Epoch 180/1000\n",
            "1406/1406 [==============================] - 34s 25ms/step - loss: 0.1631 - mae: 9000.4570\n",
            "Epoch 181/1000\n",
            "1406/1406 [==============================] - 34s 24ms/step - loss: 0.1613 - mae: 8951.6484\n",
            "Epoch 182/1000\n",
            "1406/1406 [==============================] - 34s 25ms/step - loss: 0.1601 - mae: 8907.0283\n",
            "Epoch 183/1000\n",
            "1406/1406 [==============================] - 35s 25ms/step - loss: 0.1588 - mae: 8869.2129\n",
            "Epoch 184/1000\n",
            "1406/1406 [==============================] - 36s 26ms/step - loss: 0.1569 - mae: 8814.7334\n",
            "Epoch 185/1000\n",
            "1406/1406 [==============================] - 35s 25ms/step - loss: 0.1561 - mae: 8773.1436\n",
            "Epoch 186/1000\n",
            "1406/1406 [==============================] - 35s 25ms/step - loss: 0.1550 - mae: 8756.5020\n",
            "Epoch 187/1000\n",
            "1406/1406 [==============================] - 35s 25ms/step - loss: 0.1534 - mae: 8693.3291\n",
            "Epoch 188/1000\n",
            "1406/1406 [==============================] - 34s 24ms/step - loss: 0.1527 - mae: 8666.3076\n",
            "Epoch 189/1000\n",
            "1406/1406 [==============================] - 36s 26ms/step - loss: 0.1513 - mae: 8624.8154\n",
            "Epoch 190/1000\n",
            "1406/1406 [==============================] - 34s 25ms/step - loss: 0.1500 - mae: 8585.9521\n",
            "Epoch 191/1000\n",
            "1406/1406 [==============================] - 35s 25ms/step - loss: 0.1488 - mae: 8542.7266\n",
            "Epoch 192/1000\n",
            "1406/1406 [==============================] - 35s 25ms/step - loss: 0.1471 - mae: 8497.7744\n",
            "Epoch 193/1000\n",
            "1406/1406 [==============================] - 36s 25ms/step - loss: 0.1460 - mae: 8455.2568\n",
            "Epoch 194/1000\n",
            "1406/1406 [==============================] - 39s 28ms/step - loss: 0.1448 - mae: 8401.9004\n",
            "Epoch 195/1000\n",
            "1406/1406 [==============================] - 36s 25ms/step - loss: 0.1443 - mae: 8382.8838\n",
            "Epoch 196/1000\n",
            "1406/1406 [==============================] - 35s 25ms/step - loss: 0.1426 - mae: 8336.3643\n",
            "Epoch 197/1000\n",
            "1406/1406 [==============================] - 36s 25ms/step - loss: 0.1416 - mae: 8288.9590\n",
            "Epoch 198/1000\n",
            "1406/1406 [==============================] - 39s 28ms/step - loss: 0.1407 - mae: 8254.4326\n",
            "Epoch 199/1000\n",
            "1406/1406 [==============================] - 39s 28ms/step - loss: 0.1394 - mae: 8220.9590\n",
            "Epoch 200/1000\n",
            "1406/1406 [==============================] - 36s 25ms/step - loss: 0.1385 - mae: 8182.5088\n",
            "Epoch 201/1000\n",
            "1406/1406 [==============================] - 35s 25ms/step - loss: 0.1372 - mae: 8147.5757\n",
            "Epoch 202/1000\n",
            "1406/1406 [==============================] - 35s 25ms/step - loss: 0.1364 - mae: 8096.2397\n",
            "Epoch 203/1000\n",
            "1406/1406 [==============================] - 37s 26ms/step - loss: 0.1353 - mae: 8073.3364\n",
            "Epoch 204/1000\n",
            "1406/1406 [==============================] - 36s 26ms/step - loss: 0.1340 - mae: 8026.5483\n",
            "Epoch 205/1000\n",
            "1406/1406 [==============================] - 35s 25ms/step - loss: 0.1333 - mae: 7978.0459\n",
            "Epoch 206/1000\n",
            "1406/1406 [==============================] - 36s 26ms/step - loss: 0.1322 - mae: 7957.4600\n",
            "Epoch 207/1000\n",
            "1406/1406 [==============================] - 35s 25ms/step - loss: 0.1314 - mae: 7928.3047\n",
            "Epoch 208/1000\n",
            "1406/1406 [==============================] - 36s 26ms/step - loss: 0.1305 - mae: 7898.6772\n",
            "Epoch 209/1000\n",
            "1406/1406 [==============================] - 35s 25ms/step - loss: 0.1291 - mae: 7833.5698\n",
            "Epoch 210/1000\n",
            "1406/1406 [==============================] - 40s 29ms/step - loss: 0.1286 - mae: 7814.1509\n",
            "Epoch 211/1000\n",
            "1406/1406 [==============================] - 36s 26ms/step - loss: 0.1275 - mae: 7780.0801\n",
            "Epoch 212/1000\n",
            "1406/1406 [==============================] - 36s 26ms/step - loss: 0.1264 - mae: 7723.6787\n",
            "Epoch 213/1000\n",
            "1406/1406 [==============================] - 36s 26ms/step - loss: 0.1255 - mae: 7696.5503\n",
            "Epoch 214/1000\n",
            "1406/1406 [==============================] - 37s 26ms/step - loss: 0.1247 - mae: 7656.4434\n",
            "Epoch 215/1000\n",
            "1406/1406 [==============================] - 36s 25ms/step - loss: 0.1235 - mae: 7622.3652\n",
            "Epoch 216/1000\n",
            "1406/1406 [==============================] - 35s 25ms/step - loss: 0.1230 - mae: 7583.1523\n",
            "Epoch 217/1000\n",
            "1406/1406 [==============================] - 37s 26ms/step - loss: 0.1221 - mae: 7546.1685\n",
            "Epoch 218/1000\n",
            "1406/1406 [==============================] - 37s 26ms/step - loss: 0.1212 - mae: 7515.1973\n",
            "Epoch 219/1000\n",
            "1406/1406 [==============================] - 36s 26ms/step - loss: 0.1203 - mae: 7482.5044\n",
            "Epoch 220/1000\n",
            "1406/1406 [==============================] - 35s 25ms/step - loss: 0.1196 - mae: 7460.3052\n",
            "Epoch 221/1000\n",
            "1406/1406 [==============================] - 35s 25ms/step - loss: 0.1185 - mae: 7412.2593\n",
            "Epoch 222/1000\n",
            "1406/1406 [==============================] - 38s 27ms/step - loss: 0.1176 - mae: 7382.5889\n",
            "Epoch 223/1000\n",
            "1406/1406 [==============================] - 36s 25ms/step - loss: 0.1171 - mae: 7338.2427\n",
            "Epoch 224/1000\n",
            "1406/1406 [==============================] - 36s 25ms/step - loss: 0.1160 - mae: 7313.1133\n",
            "Epoch 225/1000\n",
            "1406/1406 [==============================] - 36s 26ms/step - loss: 0.1154 - mae: 7284.2720\n",
            "Epoch 226/1000\n",
            "1406/1406 [==============================] - 40s 28ms/step - loss: 0.1146 - mae: 7239.8325\n",
            "Epoch 227/1000\n",
            "1406/1406 [==============================] - 36s 26ms/step - loss: 0.1136 - mae: 7208.2988\n",
            "Epoch 228/1000\n",
            "1406/1406 [==============================] - 36s 25ms/step - loss: 0.1127 - mae: 7162.5063\n",
            "Epoch 229/1000\n",
            "1406/1406 [==============================] - 38s 27ms/step - loss: 0.1119 - mae: 7133.4370\n",
            "Epoch 230/1000\n",
            "1406/1406 [==============================] - 42s 30ms/step - loss: 0.1111 - mae: 7095.7246\n",
            "Epoch 231/1000\n",
            "1406/1406 [==============================] - 40s 29ms/step - loss: 0.1107 - mae: 7082.7358\n",
            "Epoch 232/1000\n",
            "1406/1406 [==============================] - 37s 26ms/step - loss: 0.1104 - mae: 7057.9116\n",
            "Epoch 233/1000\n",
            "1406/1406 [==============================] - 37s 26ms/step - loss: 0.1091 - mae: 7016.5264\n",
            "Epoch 234/1000\n",
            "1406/1406 [==============================] - 37s 26ms/step - loss: 0.1085 - mae: 6971.9644\n",
            "Epoch 235/1000\n",
            "1406/1406 [==============================] - 38s 27ms/step - loss: 0.1081 - mae: 6948.8467\n",
            "Epoch 236/1000\n",
            "1406/1406 [==============================] - 37s 26ms/step - loss: 0.1072 - mae: 6919.4482\n",
            "Epoch 237/1000\n",
            "1406/1406 [==============================] - 38s 27ms/step - loss: 0.1062 - mae: 6891.8081\n",
            "Epoch 238/1000\n",
            "1406/1406 [==============================] - 38s 27ms/step - loss: 0.1057 - mae: 6853.9795\n",
            "Epoch 239/1000\n",
            "1406/1406 [==============================] - 42s 30ms/step - loss: 0.1053 - mae: 6823.7109\n",
            "Epoch 240/1000\n",
            "1406/1406 [==============================] - 37s 26ms/step - loss: 0.1043 - mae: 6786.1519\n",
            "Epoch 241/1000\n",
            "1406/1406 [==============================] - 37s 26ms/step - loss: 0.1038 - mae: 6753.1250\n",
            "Epoch 242/1000\n",
            "1406/1406 [==============================] - 38s 27ms/step - loss: 0.1026 - mae: 6705.1758\n",
            "Epoch 243/1000\n",
            "1406/1406 [==============================] - 37s 26ms/step - loss: 0.1018 - mae: 6673.5190\n",
            "Epoch 244/1000\n",
            "1406/1406 [==============================] - 38s 27ms/step - loss: 0.1016 - mae: 6658.3193\n",
            "Epoch 245/1000\n",
            "1406/1406 [==============================] - 36s 26ms/step - loss: 0.1011 - mae: 6628.8354\n",
            "Epoch 246/1000\n",
            "1406/1406 [==============================] - 36s 26ms/step - loss: 0.1005 - mae: 6610.9287\n",
            "Epoch 247/1000\n",
            "1406/1406 [==============================] - 36s 26ms/step - loss: 0.0999 - mae: 6574.3374\n",
            "Epoch 248/1000\n",
            "1406/1406 [==============================] - 37s 27ms/step - loss: 0.0992 - mae: 6541.1689\n",
            "Epoch 249/1000\n",
            "1406/1406 [==============================] - 36s 26ms/step - loss: 0.0987 - mae: 6515.0347\n",
            "Epoch 250/1000\n",
            "1406/1406 [==============================] - 36s 26ms/step - loss: 0.0980 - mae: 6489.1729\n",
            "Epoch 251/1000\n",
            "1406/1406 [==============================] - 39s 28ms/step - loss: 0.0977 - mae: 6463.2241\n",
            "Epoch 252/1000\n",
            "1406/1406 [==============================] - 37s 26ms/step - loss: 0.0968 - mae: 6420.2139\n",
            "Epoch 253/1000\n",
            "1406/1406 [==============================] - 38s 27ms/step - loss: 0.0960 - mae: 6383.3198\n",
            "Epoch 254/1000\n",
            "1404/1406 [============================>.] - ETA: 0s - loss: 0.0957 - mae: 6353.8818\n",
            "mae < 10%!\n",
            "1406/1406 [==============================] - 38s 27ms/step - loss: 0.0957 - mae: 6352.3652\n"
          ]
        }
      ],
      "source": [
        "history = model.fit(x_train, y_train, epochs=1000, verbose=1, callbacks = [callbacks])"
      ]
    },
    {
      "cell_type": "markdown",
      "source": [
        "Tahap terakhir adalah melakukan plotting dari hasil model sequential yang telah ditraining berdasarkan nilai mae dan loss yang dihasilkan selama proses training. Hasil yang diperoleh sudah baik dikarenakan nilai loss yang sangat kecil dan nilai mae sudah berada dibawah nilai minMAE yang berarti nilai mae < 10% skala data."
      ],
      "metadata": {
        "id": "OeXKdcQax3hP"
      }
    },
    {
      "cell_type": "code",
      "source": [
        "plt.figure(figsize=(10,4))\n",
        "plt.plot(history.history['mae'])\n",
        "plt.title('model mae')\n",
        "plt.ylabel('mae')\n",
        "plt.xlabel('epoch')\n",
        "plt.legend(['train', 'test'], loc='upper left')\n",
        "plt.grid(True)\n",
        "plt.show()\n",
        "\n",
        "print()\n",
        "\n",
        "plt.figure(figsize=(10,4))\n",
        "plt.plot(history.history['loss'])\n",
        "plt.title('model loss')\n",
        "plt.ylabel('loss')\n",
        "plt.xlabel('epoch')\n",
        "plt.legend(['train', 'test'], loc='upper left')\n",
        "plt.grid(True)\n",
        "plt.show()"
      ],
      "metadata": {
        "colab": {
          "base_uri": "https://localhost:8080/",
          "height": 590
        },
        "id": "m_JkO1f1xvmk",
        "outputId": "5e66826a-61af-4c1d-9ed6-46b6bba0a983"
      },
      "execution_count": null,
      "outputs": [
        {
          "output_type": "display_data",
          "data": {
            "text/plain": [
              "<Figure size 720x288 with 1 Axes>"
            ],
            "image/png": "[encoded data removed]"
          },
          "metadata": {
            "needs_background": "light"
          }
        },
        {
          "output_type": "stream",
          "name": "stdout",
          "text": [
            "\n"
          ]
        },
        {
          "output_type": "display_data",
          "data": {
            "text/plain": [
              "<Figure size 720x288 with 1 Axes>"
            ],
            "image/png": "[encoded data removed]"
          },
          "metadata": {
            "needs_background": "light"
          }
        }
      ]
    }
  ],
  "metadata": {
    "colab": {
      "collapsed_sections": [],
      "provenance": []
    },
    "gpuClass": "standard",
    "kernelspec": {
      "display_name": "Python 3",
      "name": "python3"
    },
    "language_info": {
      "name": "python"
    }
  },
  "nbformat": 4,
  "nbformat_minor": 0
}